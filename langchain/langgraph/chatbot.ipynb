{
 "cells": [
  {
   "cell_type": "markdown",
   "id": "ea75a444",
   "metadata": {},
   "source": [
    "# LangGraph ChatBot 开发指南\n",
    "\n",
    "LangGraph 是一个灵活的 Agent 开发框架，可以帮助您设计复杂的对话工作流和智能代理。\n",
    "\n",
    "本指南将指导您如何使用 LangGraph 构建一个支持**多轮对话的智能客服（聊天机器人）**。\n",
    "\n",
    "我们将从一个基础的聊天机器人开始，逐步添加更多高级功能，并介绍关键的 LangGraph 概念。\n",
    "\n",
    "通过以下几个部分的学习，您将掌握如何逐步构建、增强和管理该聊天机器人。\n",
    "\n",
    "1. **构建Chatbot**： 基于 GPT-4o-mini 构建基础聊天机器人\n",
    "2. **联网查询工具**：为聊天机器人添加工具（结合网络搜索回答问题）\n",
    "3. **增加记忆系统**：在多次调用中保持对话状态\n",
    "4. **人工介入对话**：将复杂查询路由给人工审查或手动更新内容\n",
    "5. **查询历史对话**：通过状态图状态和配置查看/打印历史对话\n",
    "----------\n",
    "\n"
   ]
  },
  {
   "cell_type": "markdown",
   "id": "771ff467-f475-4461-b1c1-3678fbf64298",
   "metadata": {},
   "source": [
    "## LangGraph 核心对象介绍\n",
    "\n",
    "#### **StateGraph 对象**\n",
    "\n",
    "`StateGraph` 是 LangGraph 中的核心概念之一，它定义了聊天机器人或其他任务处理流程的结构。它是一种状态机，通过节点（nodes）和边（edges）来表示系统的状态变化。以下是 `StateGraph` 的关键点：\n",
    "\n",
    "- **定义流程图**：`StateGraph` 是用来创建流程图的对象，图中的每个节点代表一个任务或计算步骤（如调用 LLM、工具或函数），每个边（edge）定义了从一个节点到下一个节点的流向。\n",
    "  \n",
    "- **状态管理**：`StateGraph` 通过状态（`State`）来管理流程中的数据和上下文。每个节点都会接收当前的状态，并且返回一个更新后的状态。这种机制保证了在多轮对话或任务中，机器人能够持续维护上下文信息。\n",
    "\n",
    "- **消息更新**：在 `StateGraph` 中，我们可以定义如何更新状态，例如使用 `add_messages` 函数，表示将消息追加到已有的消息列表，而不是覆盖旧消息。\n",
    "\n",
    "#### StateGraph 的使用步骤\n",
    "1. **定义 State**：首先需要定义状态（`State`），例如用字典来存储消息、工具调用的结果等内容。\n",
    "2. **添加节点**：每个节点表示一个任务单元，可以是任意的 Python 函数。\n",
    "3. **添加边**：通过 `add_edge()` 方法指定节点之间的流向，例如从聊天节点到工具节点，再到结束节点。\n",
    "4. **编译图**：通过 `compile()` 方法将流程图编译为可执行的 `CompiledGraph`。\n",
    "\n",
    "-----------\n",
    "\n",
    "#### **CompiledGraph 对象**\n",
    "\n",
    "`CompiledGraph` 是由 `StateGraph` 编译得到的实际可执行对象。它负责执行在 `StateGraph` 中定义的流程，并处理每个节点的任务。`CompiledGraph` 通过状态的流动来管理整个对话或任务的执行。以下是 `CompiledGraph` 的关键点：\n",
    "\n",
    "- **流程执行**：`CompiledGraph` 是 `StateGraph` 的实际运行版本。当你调用 `stream()` 或 `invoke()` 方法时，它会依次执行图中的节点，并根据每个节点的输出状态决定下一个节点的执行。\n",
    "\n",
    "- **状态检查点（Checkpointing）**：通过使用检查点机制，`CompiledGraph` 可以在每个节点执行完后保存当前的状态，允许任务暂停并在之后恢复。例如，您可以为机器人添加记忆功能或支持“时间旅行”（回到之前的某个状态点）。\n",
    "\n",
    "- **动态路由**：`CompiledGraph` 还支持动态路由（Conditional Edges），允许根据当前状态动态决定下一步执行的节点。这使得机器人可以根据上下文或工具的输出灵活地调整行为。\n",
    "\n",
    "------------\n",
    "\n",
    "#### 关系总结\n",
    "\n",
    "- `StateGraph` 用于定义和构建一个聊天机器人或任务处理流程的结构，通过节点和边来管理流程和状态的流动。\n",
    "- `CompiledGraph` 是 `StateGraph` 编译后的版本，负责实际的流程执行、状态管理和检查点保存。\n",
    "\n",
    "它们结合在一起，提供了一个灵活、可扩展的方式来构建复杂的多步骤对话机器人或任务执行系统。\n",
    "\n",
    "------------"
   ]
  },
  {
   "cell_type": "markdown",
   "id": "bfa6d74b-5d3c-44c3-b6b6-794f82f366b8",
   "metadata": {},
   "source": [
    "## LangGraph 核心方法介绍\n",
    "\n",
    "`graph.stream` 是 LangGraph 中的一个核心方法，用于执行编译后的状态图（`CompiledGraph`）并以流式（streaming）的方式处理每个节点。通过 `stream` 方法，系统可以逐步执行对话或任务的每个步骤，并在每一步中返回中间结果。这种方式特别适用于长时间任务、逐步处理的工具调用或连续的对话。\n",
    "\n",
    "### `graph.stream` 的核心功能\n",
    "\n",
    "1. **流式执行**：\n",
    "   - `graph.stream` 允许您在每个节点执行时获得结果，类似于生成器的工作方式。在对话或任务流程中，机器人每经过一个节点（如调用工具、获取外部数据、与用户对话），都会返回该节点的执行结果。这使得系统可以逐步处理复杂的任务或多轮对话，而不是一次性等待所有步骤完成。\n",
    "\n",
    "2. **中间状态反馈**：\n",
    "   - 使用 `stream` 方法时，开发者可以在每一步获得当前的中间状态（如对话消息、工具调用的结果）。这对于调试、错误处理和用户实时反馈非常有帮助。\n",
    "   - 比如，在对话中，系统可以在用户输入每一条消息后逐步处理，逐步生成回答，而不是一次性返回最终结果。\n",
    "\n",
    "3. **支持多轮对话**：\n",
    "   - 通过 `stream`，可以让机器人保持对话的状态，使其能够处理复杂的多轮对话。系统在每一步都会保存对话的上下文，并在接收到新消息时恢复对话的状态，继续处理。\n",
    "\n",
    "4. **支持工具调用和多节点执行**：\n",
    "   - `stream` 方法不仅支持对话，还可以用于工具调用等任务。在每个工具节点执行时，系统会返回工具的执行结果，允许您对每个步骤的输出进行检查或处理。\n",
    "   - 它特别适合那些需要多个步骤或节点共同执行的任务，保证每个节点依次运行。\n",
    "\n",
    "---\n",
    "\n",
    "### 典型用法（涵盖1-3部分的重要功能）\n",
    "\n",
    "#### 1. 执行对话\n",
    "\n",
    "```python\n",
    "config = {\"configurable\": {\"thread_id\": \"1\"}}\n",
    "user_input = \"Hi, can you tell me today's weather?\"\n",
    "\n",
    "# 使用 stream 方法来执行对话\n",
    "events = graph.stream(\n",
    "    {\"messages\": [(\"user\", user_input)]},  # 传入用户的输入消息\n",
    "    config,  # 对话线程配置，用于标识对话的唯一 ID\n",
    "    stream_mode=\"values\"  # 以流式返回数据\n",
    ")\n",
    "\n",
    "# 遍历每个事件，并输出机器人生成的消息\n",
    "for event in events:\n",
    "    print(event[\"messages\"][-1].content)  # 打印最后一条消息的内容\n",
    "```\n",
    "\n",
    "在这个示例中，`graph.stream` 逐步处理用户的输入，并返回每个步骤的结果。由于使用了 `stream_mode=\"values\"`，系统以流式返回对话的中间结果。\n",
    "\n",
    "#### 2. 执行工具调用\n",
    "\n",
    "```python\n",
    "user_input = \"Please search for the latest news about AI.\"\n",
    "config = {\"configurable\": {\"thread_id\": \"2\"}}\n",
    "\n",
    "# 使用 stream 方法来执行带有工具调用的任务\n",
    "events = graph.stream(\n",
    "    {\"messages\": [(\"user\", user_input)]},  # 用户输入的消息\n",
    "    config,\n",
    "    stream_mode=\"values\"\n",
    ")\n",
    "\n",
    "# 遍历事件，获取工具的调用结果\n",
    "for event in events:\n",
    "    if \"messages\" in event:\n",
    "        # 打印工具的调用结果或机器人回复\n",
    "        print(event[\"messages\"][-1].content)\n",
    "```\n",
    "\n",
    "这个示例展示了如何通过 `graph.stream` 执行包含工具调用的任务。每个工具的调用结果都会在事件中返回，并且可以即时处理和反馈。\n",
    "\n",
    "---\n",
    "\n",
    "### `graph.stream` 的参数\n",
    "\n",
    "- **`inputs`**：输入的字典数据，通常包含对话的消息（如 `{\"messages\": [(\"user\", user_input)]}`），表示用户输入了什么信息。`inputs` 是机器人任务的初始数据。\n",
    "- **`config`**：配置参数，用于指定对话线程 ID、流执行模式等选项。它允许为每个对话或任务指定唯一的标识符，以便系统可以跟踪对话的上下文或任务状态。\n",
    "- **`stream_mode`**：指定返回数据的模式。常见的取值是 `\"values\"`，表示返回处理结果的流式数据。其他模式也可以根据具体需求进行调整。\n",
    "\n",
    "---\n",
    "\n",
    "### 适用场景\n",
    "\n",
    "1. **多轮对话机器人**：在复杂的对话场景中，用户可能与机器人进行多轮对话，并且希望机器人能够持续记住对话上下文。`graph.stream` 允许在每一轮对话中返回中间结果，并保持对话的流畅性和连贯性。\n",
    "  \n",
    "2. **逐步执行复杂任务**：例如，机器人在执行需要多个步骤的任务时，可以通过 `stream` 方法在每个步骤执行完后返回结果，而不是一次性执行整个任务。这种逐步处理的机制可以确保任务的每一步都被正确执行，并且可以随时处理异常情况。\n",
    "\n",
    "3. **实时反馈**：在实时应用中，用户希望能够尽快获得机器人的反馈。通过 `graph.stream`，系统可以在每个步骤中即时返回处理结果，让用户感受到流畅的交互体验。\n",
    "\n",
    "---\n",
    "\n",
    "### 总结\n",
    "\n",
    "`graph.stream` 是一个强大的工具，用于以流式处理对话和任务的每个步骤。它特别适合那些需要逐步执行和处理的任务场景，如多轮对话、复杂的工具调用或任务处理。通过 `stream`，系统可以在每一步中即时返回结果，并保持任务或对话的上下文信息。\n",
    "\n",
    "-----"
   ]
  },
  {
   "cell_type": "markdown",
   "id": "77f3f01c-21f0-47be-a32b-3895f46f1b65",
   "metadata": {},
   "source": [
    "## 第 1 部分：构建基础聊天机器人\n",
    "\n",
    "我们将首先使用 LangGraph 创建一个简单的聊天机器人。该机器人将直接响应用户消息。虽然简单，但它将展示 LangGraph 构建的核心概念。在本部分结束时，您将构建一个基础的聊天机器人。\n",
    "\n",
    "### 1. 安装依赖包\n",
    "\n",
    "首先，安装所需的软件包："
   ]
  },
  {
   "cell_type": "code",
   "execution_count": 1,
   "id": "bcd46847",
   "metadata": {},
   "outputs": [],
   "source": [
    "%%capture --no-stderr\n",
    "# 安装 LangGraph 和 LangSmith，用于状态图和跟踪\n",
    "%pip install -U langgraph langsmith"
   ]
  },
  {
   "cell_type": "markdown",
   "id": "e9cb2298",
   "metadata": {},
   "source": [
    "### 2. 设置 LangSmith API 密钥"
   ]
  },
  {
   "cell_type": "code",
   "execution_count": 2,
   "id": "d9db1b1d",
   "metadata": {},
   "outputs": [],
   "source": [
    "import os\n",
    "\n",
    "# 开启 LangSmith 跟踪，便于调试和查看详细执行信息\n",
    "os.environ[\"LANGCHAIN_TRACING_V2\"] = \"true\"\n",
    "os.environ[\"LANGCHAIN_PROJECT\"] = \"ChatBot\""
   ]
  },
  {
   "cell_type": "markdown",
   "id": "eeb060c3",
   "metadata": {},
   "source": [
    "### 3. 定义聊天机器人的状态图 `StateGraph`\n",
    "\n",
    "我们将添加节点以表示聊天机器人的逻辑和功能，并添加边来指定如何在功能之间进行转换。\n",
    "\n",
    "#### 代码解析\n",
    "\n",
    "当定义一个状态图时，首先要定义图的状态 `State`。`State` 包含图的状态结构以及 reducer 函数，它们指定如何应用状态更新。\n",
    "\n",
    "在本例中，`State` 是一个带有单一键 `messages` 的 `TypedDict`，该键使用 `add_messages` 函数作为注解，告诉 LangGraph 应该将新消息追加到现有消息列表中，而不是覆盖它。\n",
    "\n",
    "没有注解的状态键将被覆盖，存储最新的值。"
   ]
  },
  {
   "cell_type": "code",
   "execution_count": 2,
   "id": "a959d214",
   "metadata": {},
   "outputs": [],
   "source": [
    "from typing import Annotated\n",
    "from typing_extensions import TypedDict\n",
    "from langgraph.graph import StateGraph, START, END\n",
    "from langgraph.graph.message import add_messages\n",
    "\n",
    "# 定义状态类型，继承自 TypedDict，并使用 add_messages 函数将消息追加到现有列表\n",
    "class State(TypedDict):\n",
    "    messages: Annotated[list, add_messages]\n",
    "\n",
    "# 创建一个状态图对象，传入状态定义\n",
    "graph_builder = StateGraph(State)"
   ]
  },
  {
   "cell_type": "markdown",
   "id": "c4950d16",
   "metadata": {},
   "source": [
    "现在，状态图知道了两件事：\n",
    "\n",
    "1. 每个我们定义的节点都会接收当前的 `State` 作为输入，并返回一个更新该状态的值。\n",
    "2. `messages` 将追加到当前列表中，而不是直接覆盖。这通过 `Annotated` 语法中的预构建 `add_messages` 函数传达。\n",
    "\n",
    "### 4. 添加聊天节点\n",
    "\n",
    "节点表示一个计算单元。它们通常是常规的 Python 函数。\n",
    "\n",
    "**代码解析：**\n",
    "\n",
    "聊天机器人节点函数（`chatbot`）接收当前的 `State` 作为输入，并返回一个包含更新后的 `messages` 列表的字典。这是所有 LangGraph 节点函数的基础模式。\n",
    "\n",
    "在 `State` 中的 `add_messages` 函数会将 LLM 的响应消息追加到现有的消息列表中。"
   ]
  },
  {
   "cell_type": "code",
   "execution_count": 3,
   "id": "1f1607f3",
   "metadata": {},
   "outputs": [
    {
     "data": {
      "text/plain": [
       "<langgraph.graph.state.StateGraph at 0x70fc9d9278d0>"
      ]
     },
     "execution_count": 3,
     "metadata": {},
     "output_type": "execute_result"
    }
   ],
   "source": [
    "from langchain_openai import AzureChatOpenAI\n",
    "\n",
    "# 初始化一个 GPT-4o-mini 模型\n",
    "chat_model = AzureChatOpenAI(azure_deployment=\"gpt-4o-mini\", api_version=\"2024-05-01-preview\",)\n",
    "\n",
    "# 定义聊天机器人的节点函数，接收当前状态并返回更新的消息列表\n",
    "def chatbot(state: State):\n",
    "    return {\"messages\": [chat_model.invoke(state[\"messages\"])]}\n",
    "\n",
    "# 第一个参数是唯一的节点名称，第二个参数是每次节点被调用时的函数或对象\n",
    "graph_builder.add_node(\"chatbot\", chatbot)"
   ]
  },
  {
   "cell_type": "markdown",
   "id": "b1ba47db",
   "metadata": {},
   "source": [
    "### 5. 定义聊天机器人对话流程（状态图的起终点）\n",
    "\n",
    "- **起点（START）**：每次运行时，从哪里开始工作。\n",
    "- **终点（END）**：每次运行此节点时，程序可以退出。"
   ]
  },
  {
   "cell_type": "code",
   "execution_count": 4,
   "id": "7f06c7de",
   "metadata": {},
   "outputs": [
    {
     "data": {
      "text/plain": [
       "<langgraph.graph.state.StateGraph at 0x70fc9d9278d0>"
      ]
     },
     "execution_count": 4,
     "metadata": {},
     "output_type": "execute_result"
    }
   ],
   "source": [
    "graph_builder.add_edge(START, \"chatbot\")\n",
    "graph_builder.add_edge(\"chatbot\", END)"
   ]
  },
  {
   "cell_type": "markdown",
   "id": "848f8d09",
   "metadata": {},
   "source": [
    "### 6. 编译图并可视化\n",
    "\n",
    "最后，我们需要能够运行我们的状态图。\n",
    "\n",
    "在图构建器上调用 `compile()`，这会创建一个可执行的 `CompiledGraph`对象。\n",
    "\n",
    "我们可以使用该图(`CompiledGraph`)来调用聊天机器人。"
   ]
  },
  {
   "cell_type": "code",
   "execution_count": 5,
   "id": "9ff06359",
   "metadata": {},
   "outputs": [
    {
     "data": {
      "image/jpeg": "[encoded data removed]",
      "text/plain": [
       "<IPython.core.display.Image object>"
      ]
     },
     "metadata": {},
     "output_type": "display_data"
    }
   ],
   "source": [
    "# 编译状态图并生成可执行图对象\n",
    "graph = graph_builder.compile()\n",
    "\n",
    "# 你可以使用 get_graph 方法来可视化图，并结合 draw 方法（如 draw_ascii 或 draw_png）\n",
    "from IPython.display import Image, display\n",
    "\n",
    "try:\n",
    "    display(Image(graph.get_graph().draw_mermaid_png()))\n",
    "except Exception:\n",
    "    pass"
   ]
  },
  {
   "cell_type": "markdown",
   "id": "7e7be101",
   "metadata": {},
   "source": [
    "### 7. 运行图\n",
    "\n",
    "**恭喜！您已经使用 LangGraph 构建了第一个聊天机器人。这个机器人可以通过接受用户输入并生成 LLM 回复来进行基本对话。**\n",
    "\n",
    "现在运行聊天机器人！\n",
    "\n",
    "#### 代码解析\n",
    "\n",
    "1. **聊天循环**：\n",
    "   - `while True:` 启动一个持续的聊天循环，用户可以不断输入问题或命令与聊天机器人互动。\n",
    "\n",
    "2. **获取用户输入**：\n",
    "   - 使用 `input(\"User: \")` 来获取用户的输入消息，并将其赋值给 `user_input` 变量。\n",
    "\n",
    "3. **退出条件**：\n",
    "   - 如果用户输入 `\"quit\"`、`\"exit\"` 或 `\"q\"`，系统会通过 `break` 语句退出聊天循环，结束程序运行。\n",
    "\n",
    "4. **将用户消息传递给聊天机器人**：\n",
    "   - 通过调用 `graph.stream({\"messages\": (\"user\", user_input)})`，将用户的输入传递给聊天机器人模型。`graph.stream` 方法会根据输入的消息生成相应的回复。\n",
    "   - 这里 `\"messages\": (\"user\", user_input)` 表示传递的是用户的输入消息。\n",
    "\n",
    "5. **处理机器人的回复**：\n",
    "   - 遍历 `event.values()` 中的每个值，从机器人生成的回复中提取最后一条消息，并使用 `print(\"Assistant:\", value[\"messages\"][-1].content)` 打印输出聊天机器人的回复内容。\n",
    "\n",
    "该代码是一个简单的聊天机器人框架，用户可以在命令行中输入问题，机器人会根据用户的输入实时生成回复。如果用户输入退出指令，程序会结束对话循环。"
   ]
  },
  {
   "cell_type": "code",
   "execution_count": 6,
   "id": "12e6c741",
   "metadata": {},
   "outputs": [
    {
     "name": "stdout",
     "output_type": "stream",
     "text": [
      "Assistant: 今天是2023年10月4日。有什么我可以帮助你的吗？\n",
      "Assistant: 抱歉，我无法提供实时的时间信息。你可以查看你的设备或时钟来获取当前时间。有什么其他我可以帮助你的吗？\n",
      "Assistant: 2023年发生了一些重要的事件，以下是一些值得注意的事项：\n",
      "\n",
      "1. **国际政治**：一些国家之间的关系发生了变化，包括地缘政治的紧张局势和外交谈判的进展。\n",
      "\n",
      "2. **气候变化**：全球各地继续经历极端天气事件，推动了对气候变化应对措施的讨论和行动。\n",
      "\n",
      "3. **科技进步**：人工智能和其他技术领域取得了显著进展，包括新的应用和伦理讨论。\n",
      "\n",
      "4. **公共卫生**：全球对健康问题的关注持续，尤其是在应对传染病和疫苗接种方面。\n",
      "\n",
      "5. **经济动态**：许多国家面临经济挑战，包括通货膨胀和供应链问题。\n",
      "\n",
      "如果你对某个特定事件或领域感兴趣，可以告诉我，我可以提供更详细的信息。\n",
      "Assistant: 抱歉，我无法提供2025年的具体事件，因为我的知识截止于2021年，无法预测未来。不过，2025年可能会有重要的政治、经济、科技、文化等方面的事件。如果你有特定的主题感兴趣，我可以提供相关的背景信息或趋势分析。\n",
      "Goodbye!\n"
     ]
    }
   ],
   "source": [
    "# 开始一个简单的聊天循环\n",
    "while True:\n",
    "    # 获取用户输入\n",
    "    user_input = input(\"User: \")\n",
    "    \n",
    "    # 可以随时通过输入 \"quit\"、\"exit\" 或 \"q\" 退出聊天循环\n",
    "    if user_input.lower() in [\"quit\", \"exit\", \"q\"]:\n",
    "        print(\"Goodbye!\")  # 打印告别信息\n",
    "        break  # 结束循环，退出聊天\n",
    "\n",
    "    # 将每次用户输入的内容传递给 graph.stream，用于聊天机器人状态处理\n",
    "    # \"messages\": (\"user\", user_input) 表示传递的消息是用户输入的内容\n",
    "    for event in graph.stream({\"messages\": (\"user\", user_input)}):\n",
    "        \n",
    "        # 遍历每个事件的值\n",
    "        for value in event.values():\n",
    "            # 打印输出 chatbot 生成的最新消息\n",
    "            print(\"Assistant:\", value[\"messages\"][-1].content)"
   ]
  },
  {
   "cell_type": "markdown",
   "id": "497df061",
   "metadata": {},
   "source": [
    "--------------\n",
    "#### 运行结果分析\n",
    "\n",
    "问：详细介绍下 LangGraph 项目\n",
    "\n",
    "gpt-4o-mini 训练数据截止日期，在 LangGraph 项目推出前。\n",
    "\n",
    "因此，直接让模型生成 LangGraph 相关介绍时，会出现事实性的问题。\n",
    "\n"
   ]
  },
  {
   "cell_type": "markdown",
   "id": "a64039fb",
   "metadata": {},
   "source": [
    "## 第 2 部分：为聊天机器人添加工具\n",
    "\n",
    "为了处理我们聊天机器人无法“记住”回答的问题，我们将集成一个 Web 搜索工具 [Tavily Search](\n",
    "https://python.langchain.com/v0.2/docs/integrations/tools/tavily_search/)。\n",
    "\n",
    "我们的机器人可以使用这个工具找到相关信息，并提供更好的回复。\n",
    "\n",
    "### 1. 安装依赖并设置 Tavily API\n",
    "\n",
    "访问 [Tavily](https://tavily.com/) 官网，注册账号并生成你的 `TAVILY_API_KEY`。\n",
    "\n",
    "Tavily 提供 1000次/月的免费检索额度。\n",
    "\n",
    "在开始之前，确保您已安装 Tavily 搜索引擎所需的包并在环境变量中设置了 `TAVILY_API_KEY`。"
   ]
  },
  {
   "cell_type": "code",
   "execution_count": 7,
   "id": "9fe20f5f",
   "metadata": {},
   "outputs": [],
   "source": [
    "%%capture --no-stderr\n",
    "# 安装 Tavily 搜索引擎的 Python 包\n",
    "%pip install -U tavily-python\n",
    "%pip install -U langchain_community"
   ]
  },
  {
   "cell_type": "code",
   "execution_count": 8,
   "id": "fb1758a2-7208-4aa4-8c60-4ec2e57b1783",
   "metadata": {},
   "outputs": [],
   "source": [
    "import getpass\n",
    "import os\n",
    "\n",
    "if not os.environ.get(\"TAVILY_API_KEY\"):\n",
    "    os.environ[\"TAVILY_API_KEY\"] = getpass.getpass(\"Tavily API key:\\n\")"
   ]
  },
  {
   "cell_type": "markdown",
   "id": "4448a461",
   "metadata": {},
   "source": [
    "### 2. 定义工具"
   ]
  },
  {
   "cell_type": "code",
   "execution_count": 9,
   "id": "5ec05131",
   "metadata": {},
   "outputs": [
    {
     "data": {
      "text/plain": [
       "[{'url': 'https://saksheepatil05.medium.com/demystifying-langgraph-a-beginner-friendly-dive-into-langgraph-concepts-5ffe890ddac0',\n",
       "  'content': 'Nodes (Tasks): Nodes are like the workstations on the assembly line. Each node performs a specific task on the product. In LangGraph, nodes are Python functions that take the current state, do some work, and return an updated state. Next, we define the nodes, each representing a task in our sandwich-making process.'},\n",
       " {'url': 'https://www.datacamp.com/tutorial/langgraph-tutorial',\n",
       "  'content': \"In LangGraph, each node represents an LLM agent, and the edges are the communication channels between these agents. This structure allows for clear and manageable workflows, where each agent performs specific tasks and passes information to other agents as needed. State management. One of LangGraph's standout features is its automatic state ...\"}]"
      ]
     },
     "execution_count": 9,
     "metadata": {},
     "output_type": "execute_result"
    }
   ],
   "source": [
    "from langchain_community.tools.tavily_search import TavilySearchResults\n",
    "\n",
    "# 定义 Tavily 搜索工具，最大搜索结果数设置为 2\n",
    "tool = TavilySearchResults(max_results=2)\n",
    "tools = [tool]\n",
    "\n",
    "# 测试工具调用\n",
    "tool.invoke(\"What's a 'node' in LangGraph?\")"
   ]
  },
  {
   "cell_type": "markdown",
   "id": "07ba26bd",
   "metadata": {},
   "source": [
    "-----------------------------\n",
    "#### 搜索工具结果 如上所示\n",
    "\n",
    "工具返回的是页面摘要，供我们的聊天机器人用于回答问题。\n",
    "\n",
    "### 3. 将工具集成到状态图中\n",
    "\n",
    "以下步骤与第 1 部分类似，只不过我们在 `LLM` 上添加了 `bind_tools`，这使得 LLM 可以在需要时调用搜索工具。"
   ]
  },
  {
   "cell_type": "code",
   "execution_count": 10,
   "id": "32631ea0",
   "metadata": {},
   "outputs": [
    {
     "data": {
      "text/plain": [
       "<langgraph.graph.state.StateGraph at 0x70fc865b7c90>"
      ]
     },
     "execution_count": 10,
     "metadata": {},
     "output_type": "execute_result"
    }
   ],
   "source": [
    "from typing import Annotated\n",
    "from langchain_openai import ChatOpenAI\n",
    "from typing_extensions import TypedDict\n",
    "from langgraph.graph import StateGraph, START\n",
    "from langgraph.graph.message import add_messages\n",
    "\n",
    "# 定义状态\n",
    "class State(TypedDict):\n",
    "    messages: Annotated[list, add_messages]\n",
    "\n",
    "graph_builder = StateGraph(State)\n",
    "\n",
    "# 初始化 LLM 并绑定搜索工具\n",
    "chat_model = AzureChatOpenAI(azure_deployment=\"gpt-4o-mini\", api_version=\"2024-05-01-preview\",)\n",
    "llm_with_tools = chat_model.bind_tools(tools)\n",
    "\n",
    "# 更新聊天机器人节点函数，支持工具调用\n",
    "def chatbot(state: State):\n",
    "    return {\"messages\": [llm_with_tools.invoke(state[\"messages\"])]}\n",
    "\n",
    "# 将更新后的节点添加到状态图中\n",
    "graph_builder.add_node(\"chatbot\", chatbot)"
   ]
  },
  {
   "cell_type": "markdown",
   "id": "9c8c99bb",
   "metadata": {},
   "source": [
    "\n",
    "### 4. 处理工具调用\n",
    "\n",
    "我们需要创建一个函数来运行工具。我们通过向图中添加一个新节点来实现这一点。\n",
    "\n"
   ]
  },
  {
   "cell_type": "code",
   "execution_count": 11,
   "id": "7e8e3ba9",
   "metadata": {},
   "outputs": [],
   "source": [
    "import json\n",
    "from langchain_core.messages import ToolMessage\n",
    "\n",
    "# 定义 BasicToolNode，用于执行工具请求\n",
    "class BasicToolNode:\n",
    "    \"\"\"一个在最后一条 AIMessage 中执行工具请求的节点。\n",
    "    \n",
    "    该节点会检查最后一条 AI 消息中的工具调用请求，并依次执行这些工具调用。\n",
    "    \"\"\"\n",
    "\n",
    "    def __init__(self, tools: list) -> None:\n",
    "        # tools 是一个包含所有可用工具的列表，我们将其转化为字典，\n",
    "        # 通过工具名称（tool.name）来访问具体的工具\n",
    "        self.tools_by_name = {tool.name: tool for tool in tools}\n",
    "\n",
    "    def __call__(self, inputs: dict):\n",
    "        \"\"\"执行工具调用\n",
    "        \n",
    "        参数:\n",
    "        inputs: 包含 \"messages\" 键的字典，\"messages\" 是对话消息的列表，\n",
    "                其中最后一条消息可能包含工具调用的请求。\n",
    "        \n",
    "        返回:\n",
    "        包含工具调用结果的消息列表\n",
    "        \"\"\"\n",
    "        # 获取消息列表中的最后一条消息，判断是否包含工具调用请求\n",
    "        if messages := inputs.get(\"messages\", []):\n",
    "            message = messages[-1]\n",
    "        else:\n",
    "            raise ValueError(\"输入中未找到消息\")\n",
    "\n",
    "        # 用于保存工具调用的结果\n",
    "        outputs = []\n",
    "\n",
    "        # 遍历工具调用请求，执行工具并将结果返回\n",
    "        for tool_call in message.tool_calls:\n",
    "            # 根据工具名称找到相应的工具，并调用工具的 invoke 方法执行工具\n",
    "            tool_result = self.tools_by_name[tool_call[\"name\"]].invoke(\n",
    "                tool_call[\"args\"]\n",
    "            )\n",
    "            # 将工具调用结果作为 ToolMessage 保存下来\n",
    "            outputs.append(\n",
    "                ToolMessage(\n",
    "                    content=json.dumps(tool_result),  # 工具调用的结果以 JSON 格式保存\n",
    "                    name=tool_call[\"name\"],  # 工具的名称\n",
    "                    tool_call_id=tool_call[\"id\"],  # 工具调用的唯一标识符\n",
    "                )\n",
    "            )\n",
    "        # 返回包含工具调用结果的消息\n",
    "        return {\"messages\": outputs}"
   ]
  },
  {
   "cell_type": "code",
   "execution_count": 12,
   "id": "75c139e4-af01-4cc8-987e-16b2ec82a662",
   "metadata": {},
   "outputs": [
    {
     "data": {
      "text/plain": [
       "<langgraph.graph.state.StateGraph at 0x70fc865b7c90>"
      ]
     },
     "execution_count": 12,
     "metadata": {},
     "output_type": "execute_result"
    }
   ],
   "source": [
    "# 将 BasicToolNode 添加到状态图中\n",
    "tool_node = BasicToolNode(tools=[tool])\n",
    "graph_builder.add_node(\"tools\", tool_node)"
   ]
  },
  {
   "cell_type": "markdown",
   "id": "f833a146",
   "metadata": {},
   "source": [
    "\n",
    "### 5. 添加条件边\n",
    "\n",
    "条件边将控制流从一个节点路由到另一个节点。条件边通常包含 `if` 语句，以根据当前状态将控制流路由到不同的节点。\n",
    "\n",
    "#### 代码解析\n",
    "\n",
    "我们定义一个路由函数 `route_tools`，检查聊天机器人的输出中是否包含工具调用。此函数会在聊天机器人节点完成后检查，决定下一步走向工具节点还是结束对话。\n",
    "\n",
    "1. **`route_tools` 函数**：这是一个路由函数，用来决定机器人在对话流程中的下一步。它会检查状态中的最后一条消息，判断该消息是否包含工具调用请求。\n",
    "   - 如果有工具调用请求（通过 `tool_calls` 属性判断），返回 `\"tools\"`，表示需要执行工具节点。\n",
    "   - 如果没有工具调用请求，则返回 `\"__end__\"`，表示对话流程结束。\n",
    "\n",
    "2. **`add_conditional_edges`**：这是 LangGraph 中用于条件路由的函数。它允许我们根据 `route_tools` 函数的返回值决定下一个要执行的节点。比如：\n",
    "   - 如果返回值是 `\"tools\"`，则执行工具节点。\n",
    "   - 如果返回值是 `\"__end__\"`，则结束流程。\n",
    "\n",
    "3. **`add_edge`**：当工具节点执行完成后，机器人会返回到 `chatbot` 节点继续对话。\n",
    "\n",
    "4. **编译状态图**：最后，使用 `graph_builder.compile()` 编译状态图，生成一个 `CompiledGraph`，这个对象可以实际执行对话流程。"
   ]
  },
  {
   "cell_type": "code",
   "execution_count": 13,
   "id": "fafcaabc",
   "metadata": {},
   "outputs": [
    {
     "data": {
      "text/plain": [
       "<langgraph.graph.state.StateGraph at 0x70fc865b7c90>"
      ]
     },
     "execution_count": 13,
     "metadata": {},
     "output_type": "execute_result"
    }
   ],
   "source": [
    "from typing import Literal\n",
    "\n",
    "# 定义路由函数，检查工具调用\n",
    "def route_tools(\n",
    "    state: State,\n",
    ") -> Literal[\"tools\", \"__end__\"]:\n",
    "    \"\"\"\n",
    "    使用条件边来检查最后一条消息中是否有工具调用。\n",
    "    \n",
    "    参数:\n",
    "    state: 状态字典或消息列表，用于存储当前对话的状态和消息。\n",
    "    \n",
    "    返回:\n",
    "    如果最后一条消息包含工具调用，返回 \"tools\" 节点，表示需要执行工具调用；\n",
    "    否则返回 \"__end__\"，表示直接结束流程。\n",
    "    \"\"\"\n",
    "    # 检查状态是否是列表类型（即消息列表），取最后一条 AI 消息\n",
    "    if isinstance(state, list):\n",
    "        ai_message = state[-1]\n",
    "    # 否则从状态字典中获取 \"messages\" 键，取最后一条消息\n",
    "    elif messages := state.get(\"messages\", []):\n",
    "        ai_message = messages[-1]\n",
    "    # 如果没有找到消息，则抛出异常\n",
    "    else:\n",
    "        raise ValueError(f\"输入状态中未找到消息: {state}\")\n",
    "\n",
    "    # 检查最后一条消息是否有工具调用请求\n",
    "    if hasattr(ai_message, \"tool_calls\") and len(ai_message.tool_calls) > 0:\n",
    "        return \"tools\"  # 如果有工具调用请求，返回 \"tools\" 节点\n",
    "    return \"__end__\"  # 否则返回 \"__end__\"，流程结束\n",
    "\n",
    "# 添加条件边，判断是否需要调用工具\n",
    "graph_builder.add_conditional_edges(\n",
    "    \"chatbot\",  # 从聊天机器人节点开始\n",
    "    route_tools,  # 路由函数，决定下一个节点\n",
    "    {\n",
    "        \"tools\": \"tools\", \n",
    "        \"__end__\": \"__end__\"\n",
    "    },  # 定义条件的输出，工具调用走 \"tools\"，否则走 \"__end__\"\n",
    ")\n",
    "\n",
    "# 当工具调用完成后，返回到聊天机器人节点以继续对话\n",
    "graph_builder.add_edge(\"tools\", \"chatbot\")\n",
    "\n",
    "# 指定从 START 节点开始，进入聊天机器人节点\n",
    "graph_builder.add_edge(START, \"chatbot\")"
   ]
  },
  {
   "cell_type": "markdown",
   "id": "47bdf00b",
   "metadata": {},
   "source": [
    "\n",
    "### 6. 编译图并可视化\n",
    "\n",
    "使用以下代码可视化构建的状态图：\n",
    "\n"
   ]
  },
  {
   "cell_type": "code",
   "execution_count": 14,
   "id": "8ca50a69-6dcc-4b6d-b9d7-3afedf260d6d",
   "metadata": {},
   "outputs": [],
   "source": [
    "# 编译状态图，生成可执行的流程图\n",
    "graph = graph_builder.compile()"
   ]
  },
  {
   "cell_type": "code",
   "execution_count": 15,
   "id": "e6206f1b",
   "metadata": {},
   "outputs": [
    {
     "data": {
      "image/jpeg": "[encoded data removed]",
      "text/plain": [
       "<IPython.core.display.Image object>"
      ]
     },
     "metadata": {},
     "output_type": "display_data"
    }
   ],
   "source": [
    "from IPython.display import Image, display\n",
    "\n",
    "try:\n",
    "    display(Image(graph.get_graph().draw_mermaid_png()))\n",
    "except Exception:\n",
    "    pass\n"
   ]
  },
  {
   "cell_type": "markdown",
   "id": "c9f90b11",
   "metadata": {},
   "source": [
    "### 7. 运行图\n",
    "\n",
    "现在，我们可以询问机器人超出其训练数据范围的问题。\n",
    "\n",
    "#### 代码解析\n",
    "\n",
    "1. **`while True` 循环**：\n",
    "   - 这是一个无限循环，用于保持对话的持续进行，直到用户输入退出命令为止。每次用户输入一条消息，系统都会将消息传递给机器人进行处理。\n",
    "\n",
    "2. **用户输入**：\n",
    "   - `input(\"User: \")` 用于从用户处获取输入信息，模拟与机器人对话的场景。\n",
    "   - 如果用户输入的是 `\"quit\"`、`\"exit\"` 或 `\"q\"`，系统将打印 `\"Goodbye!\"` 并退出循环，结束程序。\n",
    "\n",
    "3. **`graph.stream`**：\n",
    "   - `graph.stream({\"messages\": [(\"user\", user_input)]})` 会将用户的输入消息传递给状态图（graph）进行处理，`graph` 会根据流程生成相应的回复。\n",
    "   - `\"messages\": [(\"user\", user_input)]`：这是传递给机器人对话系统的输入消息，表示来自用户的输入内容。\n",
    "\n",
    "4. **遍历 `event.values()`**：\n",
    "   - `graph.stream` 会生成一系列的 `event`，每个 `event` 都包含机器人的响应消息。通过遍历 `event.values()`，我们可以获取每个消息的内容。\n",
    "   - 如果最后一条消息是 `BaseMessage` 类型（机器人回复），则通过 `print(\"Assistant:\", value[\"messages\"][-1].content)` 将机器人的回复输出到控制台。\n",
    "\n",
    "5. **`BaseMessage`**：\n",
    "   - `BaseMessage` 是 LangChain 中的消息类型，用于表示机器人和用户之间的消息。在这里，它用于确认从机器人生成的消息是否符合标准格式。"
   ]
  },
  {
   "cell_type": "code",
   "execution_count": 16,
   "id": "0ddd8960",
   "metadata": {},
   "outputs": [
    {
     "name": "stdout",
     "output_type": "stream",
     "text": [
      "Assistant: \n",
      "Assistant: \"HTTPError('400 Client Error: Bad Request for url: https://api.tavily.com/search')\"\n",
      "Assistant: \n",
      "Assistant: [{\"url\": \"http://www.nmc.cn/publish/forecast/AGD/guangzhou.html\", \"content\": \"\\u5e7f\\u5dde\\u5929\\u6c14\\u9884\\u62a5; ... \\u5236\\u4f5c\\u7ef4\\u62a4\\uff1a\\u56fd\\u5bb6\\u6c14\\u8c61\\u4e2d\\u5fc3\\u9884\\u62a5\\u7cfb\\u7edf\\u5f00\\u653e\\u5b9e\\u9a8c\\u5ba4 \\u5730\\u5740\\uff1a\\u5317\\u4eac\\u5e02\\u4e2d\\u5173\\u6751\\u5357\\u5927\\u885746\\u53f7 \\u90ae\\u7f16\\uff1a100081 . \\u4eac\\u516c\\u7f51\\u5b89\\u5907 11040102700100 ...\"}, {\"url\": \"https://m.weather.com.cn/mweather/101280101.shtml\", \"content\": \"\\u5e7f\\u5dde\\u5929\\u6c14\\u9884\\u62a5\\uff0c\\u53ca\\u65f6\\u51c6\\u786e\\u53d1\\u5e03\\u4e2d\\u592e\\u6c14\\u8c61\\u53f0\\u5929\\u6c14\\u4fe1\\u606f\\uff0c\\u4fbf\\u6377\\u67e5\\u8be2\\u5e7f\\u5dde\\u4eca\\u65e5\\u5929\\u6c14\\uff0c\\u5e7f\\u5dde\\u5468\\u672b\\u5929\\u6c14\\uff0c\\u5e7f\\u5dde\\u4e00\\u5468\\u5929\\u6c14\\u9884\\u62a5\\uff0c\\u5e7f\\u5dde\\u84dd\\u5929\\u9884\\u62a5\\uff0c\\u5e7f\\u5dde\\u5929\\u6c14\\u9884\\u62a5\\uff0c\\u5e7f\\u5dde40\\u65e5\\u5929\\u6c14\\u9884\\u62a5\\uff0c\\u8fd8\\u63d0\\u4f9b\\u5e7f\\u5dde\\u7684\\u751f\\u6d3b\\u6307\\u6570\\u3001\\u5065\\u5eb7\\u6307\\u6570\\u3001\\u4ea4\\u901a\\u6307\\u6570\\u3001\\u65c5\\u6e38\\u6307\\u6570\\uff0c\\u53ca\\u65f6\\u53d1\\u5e03\\u5e7f\\u5dde\\u6c14\\u8c61\\u9884\\u8b66\\u4fe1\\u53f7\\u3001\\u5404\\u7c7b\\u6c14\\u8c61\\u8d44\\u8baf\\u3002\"}]\n",
      "Assistant: 今天广州的天气预报可以通过以下链接查看：\n",
      "\n",
      "1. [国家气象中心 - 广州天气预报](http://www.nmc.cn/publish/forecast/AGD/guangzhou.html)\n",
      "2. [天气网 - 广州天气](https://m.weather.com.cn/mweather/101280101.shtml)\n",
      "\n",
      "你可以在这些网站上找到详细的天气信息，包括温度、湿度和降水概率等。\n",
      "Assistant: \n",
      "Assistant: [{\"url\": \"https://www.thecover.cn/news/E5AaNpz6FQyH90qSdq8Jkw==\", \"content\": \"\\u4e0b\\u8f7d\\u5c01\\u9762\\u5ba2\\u6237\\u7aef\\n\\u4e0b\\u8f7dC\\u89c6\\u9891\\u5ba2\\u6237\\u7aef\\n\\u4e0b\\u8f7d\\u5c01\\u5e95\\u5ba2\\u6237\\u7aef\\n\\u5173\\u6ce8\\u5c01\\u9762\\u516c\\u4f17\\u53f7\\n\\u56fe\\u770b2023\\uff1a\\u5168\\u7403\\u70ed\\u70b9\\u5927\\u4e8b\\u4ef6\\u4e282023\\u5e74\\u7ec8\\u76d8\\u70b9\\n\\u5c01\\u9762\\u533a\\u5757\\u94fe\\n\\u8be5\\u6587\\u7ae0\\u5df2\\u4e0a\\u94fe >\\n\\u5c01\\u9762\\u65b0\\u95fb\\n2023-12-25 15:01\\n213442\\n\\u5f00\\u680f\\u8bed\\u4e282023\\u00b7\\u8fc8\\n\\u201c\\u96c4\\u5173\\u6f2b\\u9053\\u771f\\u5982\\u94c1\\uff0c\\u800c\\u4eca\\u8fc8\\u6b65\\u4ece\\u5934\\u8d8a\\u3002\\u201d2023\\u5e74\\uff0c\\u662f\\u5168\\u9762\\u590d\\u82cf\\u4e00\\u5e74\\uff0c\\u5168\\u56fd\\u4e0a\\u4e0b\\u52aa\\u529b\\u62fc\\u640f\\uff0c\\u8fc8\\u5f00\\u5f00\\u653e\\u7684\\u6b65\\u5e45\\uff0c\\u5404\\u884c\\u5404\\u4e1a\\u8d1f\\u91cd\\u524d\\u884c\\uff0c\\u8fc8\\u51fa\\u5b9e\\u5e72\\u7684\\u6b65\\u5b50\\uff0c\\u63a8\\u52a8\\u7740\\u7ecf\\u6d4e\\u590d\\u82cf\\u5411\\u597d\\u3002\\u5c01\\u9762\\u65b0\\u95fb\\u63a8\\u51fa\\u5e74\\u7ec8\\u76d8\\u70b9\\u62a5\\u9053\\uff0c\\u4e0e\\u4f60\\u4e00\\u8d77\\u56de\\u987e\\u8fd9\\u4e0d\\u5e73\\u51e1\\u7684\\u4e00\\u5e74\\uff01\\n\\u6211\\u4eec\\u805a\\u7126\\u5168\\u7403\\u77a9\\u76ee\\u7684\\u5927\\u4e8b\\u4ef6\\uff0c\\u611f\\u53d7\\u5386\\u53f2\\u7684\\u53d8\\u8fc1\\uff1b\\u6211\\u4eec\\u89c1\\u8bc1\\u4eba\\u7c7b\\u822a\\u5929\\u4e8b\\u4e1a\\u7684\\u8f89\\u714c\\u6210\\u5c31\\uff0c\\u63a2\\u7d22\\u5b87\\u5b99\\u7684\\u5965\\u79d8\\uff1b\\u6211\\u4eec\\u5173\\u6ce8\\u79d1\\u6280\\u9886\\u57df\\u7684\\u91cd\\u5927\\u7a81\\u7834\\uff0c\\u770b\\u5230\\u6539\\u53d8\\u751f\\u6d3b\\u7684\\u53ef\\u80fd\\uff1b\\u6211\\u4eec\\u91cd\\u6e29\\u51e1\\u4eba\\u5584\\u4e3e\\u3001\\u4f20\\u9012\\u6b63\\u80fd\\u91cf\\uff0c\\u5c55\\u793a\\u4eba\\u6027\\u7684\\u5149\\u8f89\\u548c\\u6e29\\u6696\\u2026\\u2026\\n2023\\u5e74\\u662f\\u5145\\u6ee1\\u60ca\\u559c\\u548c\\u6311\\u6218\\u7684\\u4e00\\u5e74\\u3002\\u4eca\\u5e74\\u79d1\\u6280\\u65b9\\u9762\\u4eba\\u5de5\\u667a\\u80fd\\u817e\\u98de\\uff0c\\u822a\\u5929\\u4e8b\\u4e1a\\u8f89\\u714c\\uff0c\\u4e2d\\u56fd\\u3001\\u7f8e\\u56fd\\u3001\\u5370\\u5ea6\\u3001\\u97e9\\u56fd\\u7b49\\u5728\\u592a\\u7a7a\\u63a2\\u7d22\\u65b9\\u9762\\u53d6\\u5f97\\u4e86\\u91cd\\u5927\\u6210\\u5c31\\uff0c\\u540c\\u65f6\\u5730\\u533a\\u51b2\\u7a81\\u3001\\u5c40\\u90e8\\u6218\\u4e89\\u5bfc\\u81f4\\u56fd\\u9645\\u5c40\\u52bf\\u7d27\\u5f20\\uff0c\\u4e5f\\u5f15\\u53d1\\u4e86\\u5168\\u7403\\u7ecf\\u6d4e\\u3001\\u80fd\\u6e90\\u548c\\u4eba\\u9053\\u5371\\u673a\\u3002\\u4ee5\\u4e0b\\u662f\\u6211\\u4eec\\u76d8\\u70b9\\u76842023\\u5e74\\u5168\\u7403\\u70ed\\u70b9\\u5927\\u4e8b\\u4ef6\\uff1a\\n\\u56fd\\u5185\\u7bc7\\n\\u4e2d\\u56fd\\u201c\\u4eba\\u9020\\u592a\\u9633\\u201d\\u83b7\\u91cd\\u5927\\u7a81\\u7834\\n4\\u670812\\u65e521\\u65f6\\uff0c\\u4e2d\\u56fd\\u6709\\u201c\\u4eba\\u9020\\u592a\\u9633\\u201d\\u4e4b\\u79f0\\u7684\\u5168\\u8d85\\u5bfc\\u6258\\u5361\\u9a6c\\u514b\\u6838\\u805a\\u53d8\\u5b9e\\u9a8c\\u88c5\\u7f6e\\uff08EAST\\uff09\\u521b\\u9020\\u65b0\\u7684\\u4e16\\u754c\\u7eaa\\u5f55\\uff0c\\u6210\\u529f\\u5b9e\\u73b0\\u7a33\\u6001\\u9ad8\\u7ea6\\u675f\\u6a21\\u5f0f\\u7b49\\u79bb\\u5b50\\u4f53\\u8fd0\\u884c403\\u79d2\\u3002\\u8fd9\\u662f\\u5b9e\\u9a8c\\u6210\\u529f\\u540e\\u7684\\u5168\\u8d85\\u5bfc\\u6258\\u5361\\u9a6c\\u514b\\u6838\\u805a\\u53d8\\u5b9e\\u9a8c\\u88c5\\u7f6e\\uff08EAST\\uff09\\u63a7\\u5236\\u5927\\u5385\\u3002\\u65b0\\u534e\\u793e\\u8bb0\\u8005 \\u9ec4\\u535a\\u6db5 \\u6444\\n\\u56fd\\u4ea7\\u5927\\u98de\\u673aC919\\u5546\\u4e1a\\u9996\\u98de\\u6210\\u529f\\n5\\u670828\\u65e512\\u65f631\\u5206\\uff0c\\u7531\\u5168\\u7403\\u9996\\u67b6\\u56fd\\u4ea7\\u5927\\u98de\\u673aC919\\u6267\\u98de\\u7684\\u4e1c\\u822aMU9191\\u822a\\u73ed\\uff0c\\u7531\\u4e0a\\u6d77\\u98de\\u62b5\\u5317\\u4eac\\u3002\\u8fd9\\u6807\\u5fd7\\u7740C919\\u5706\\u6ee1\\u5b8c\\u6210\\u9996\\u4e2a\\u5546\\u4e1a\\u822a\\u73ed\\u98de\\u884c\\uff0c\\u6b63\\u5f0f\\u8fdb\\u5165\\u6c11\\u822a\\u5e02\\u573a\\u3002\\u5317\\u4eac\\u9996\\u90fd\\u56fd\\u9645\\u673a\\u573a\\u4ee5\\u6c34\\u95e8\\u793c\\u8fce\\u63a5C919\\u9996\\u4e2a\\u5546\\u4e1a\\u822a\\u73ed\\u3002\\u56fe\\u7247\\u6765\\u6e90\\uff1a\\u4e1c\\u822a\\n\\u4e2d\\u56fd\\u5973\\u7bee\\u518d\\u593a\\u4e9a\\u6d32\\u676f\\u51a0\\u519b\\n7\\u67082\\u65e5\\uff0c\\u57282023\\u5e74\\u5973\\u7bee\\u4e9a\\u6d32\\u676f\\u51b3\\u8d5b\\u4e2d\\uff0c\\u4e2d\\u56fd\\u961f\\u4ee573:71\\u9669\\u80dc\\u65e5\\u672c\\u961f\\uff0c\\u65f6\\u969412\\u5e74\\u518d\\u6b21\\u6367\\u8d77\\u8be5\\u9879\\u8d5b\\u4e8b\\u51a0\\u519b\\u5956\\u676f\\u3002\\u56fe\\u4e3a\\u4e2d\\u56fd\\u961f\\u7403\\u5458\\u674e\\u68a6\\uff08\\u5de6\\uff09\\u548c\\u97e9\\u65ed\\u5728\\u5973\\u7bee\\u4e9a\\u6d32\\u676f\\u51b3\\u8d5b\\u80dc\\u5229\\u540e\\u62e5\\u62b1\\u3002\\u65b0\\u534e\\u793e\\u8bb0\\u8005\\u80e1\\u6cfe\\u8fb0 \\u6444\\n\\u4e16\\u754c\\u5927\\u5b66\\u751f\\u8fd0\\u52a8\\u4f1a\\u5728\\u6210\\u90fd\\u4e3e\\u884c\\n7\\u670828\\u65e5\\uff0c\\u7b2c\\u4e09\\u5341\\u4e00\\u5c4a\\u4e16\\u754c\\u5927\\u5b66\\u751f\\u590f\\u5b63\\u8fd0\\u52a8\\u4f1a\\u5728\\u6210\\u90fd\\u9686\\u91cd\\u5f00\\u5e55\\uff0c\\u4e2d\\u56fd\\u4f53\\u80b2\\u4ee3\\u8868\\u56e2\\u83b7\\u5f97103\\u679a\\u91d1\\u724c\\u3001178\\u679a\\u5956\\u724c\\uff0c\\u540d\\u5217\\u91d1\\u724c\\u699c\\u548c\\u5956\\u724c\\u699c\\u9996\\u4f4d\\u3002\\u56fe\\u4e3a\\u56db\\u5ddd\\u9009\\u624b\\u66f9\\u8302\\u56ed\\u5b8c\\u7f8e\\u8868\\u73b0\\u6458\\u4e0b\\u6210\\u90fd\\u5927\\u8fd0\\u4f1a\\u9996\\u91d1\\u3002\\u5c01\\u9762\\u65b0\\u95fb\\u8bb0\\u8005\\u9648\\u7fbd\\u5578 \\u6444\\n\\u6d77\\u6cb3\\u201c23\\u00b77\\u201d\\u6d41\\u57df\\u6027\\u7279\\u5927\\u6d2a\\u6c34\\n7\\u670828\\u65e5\\u81f38\\u67082\\u65e5\\uff0c\\u4eac\\u6d25\\u5180\\u5730\\u533a\\u53d1\\u751f\\u7279\\u5927\\u66b4\\u96e8\\u3002\\u53d7\\u5f3a\\u964d\\u96e8\\u5f71\\u54cd\\uff0c\\u6d77\\u6cb3\\u6d41\\u57df\\u670922\\u6761\\u6cb3\\u6d41\\u53d1\\u751f\\u8d85\\u8b66\\u4ee5\\u4e0a\\u6d2a\\u6c34\\uff0c8\\u6761\\u6cb3\\u6d41\\u53d1\\u751f\\u6709\\u5b9e\\u6d4b\\u8d44\\u6599\\u4ee5\\u6765\\u6700\\u5927\\u6d2a\\u6c34\\uff0c\\u5927\\u6e05\\u6cb3\\u3001\\u6c38\\u5b9a\\u6cb3\\u53d1\\u751f\\u7279\\u5927\\u6d2a\\u6c34\\uff0c\\u5b50\\u7259\\u6cb3\\u53d1\\u751f\\u5927\\u6d2a\\u6c34\\u3002\\u56fe\\u4e3a8\\u67082\\u65e5\\uff0c\\u6cb3\\u5317\\u7701\\u6dbf\\u5dde\\u9ad8\\u65b0\\u6280\\u672f\\u4ea7\\u4e1a\\u5f00\\u53d1\\u533a\\u79ef\\u6c34\\u8def\\u6bb5\\uff0c\\u53d7\\u56f0\\u4eba\\u5458\\u9646\\u7eed\\u88ab\\u6551\\u51fa\\u3002\\u4e2d\\u65b0\\u793e\\u8bb0\\u8005 \\u7fdf\\u7fbd\\u4f73 \\u6444\\n\\u676d\\u5dde\\u4e9a\\u8fd0\\u4f1a\\u4e3e\\u884c\\n9\\u670823\\u65e5\\u665a\\uff0c\\u676d\\u5dde\\u4e9a\\u8fd0\\u4f1a\\u5f00\\u5e55\\u5f0f\\u4e0a\\uff0c\\u8c61\\u5f81\\u7740\\u8d85\\u8fc71\\u4ebf\\u540d\\u201c\\u6570\\u5b57\\u706b\\u70ac\\u624b\\u201d\\u7684\\u91d1\\u8272\\u6570\\u5b57\\u4eba\\u624b\\u6301\\u706b\\u70ac\\uff0c\\u4e0e\\u73b0\\u573a\\u7684\\u706b\\u70ac\\u624b\\u6c6a\\u987a\\u4e00\\u8d77\\u70b9\\u71c3\\u4e3b\\u706b\\u70ac\\u5854\\u3002\\u4e9a\\u8fd0\\u53f2\\u4e0a\\u9996\\u4e2a\\u201c\\u6570\\u5b9e\\u878d\\u5408\\u201d\\u7684\\u70b9\\u706b\\u4eea\\u5f0f\\uff0c\\u6210\\u4e3a\\u672c\\u5c4a\\u4e9a\\u8fd0\\u5f00\\u5e55\\u5f0f\\u7684\\u7ecf\\u5178\\u8bb0\\u5fc6\\u4e4b\\u4e00\\u3002\\u89c6\\u89c9\\u4e2d\\u56fd \\u4f9b\\u56fe\\n\\u795e\\u821f\\u5341\\u516d\\u53f7\\u3001\\u5341\\u4e03\\u53f7\\u76f8\\u7ee7\\u53d1\\u5c04\\u6210\\u529f\\n5\\u670830\\u65e5\\uff0c\\u795e\\u821f\\u5341\\u516d\\u53f7\\u8f7d\\u4eba\\u98de\\u8239\\u5728\\u9152\\u6cc9\\u536b\\u661f\\u53d1\\u5c04\\u4e2d\\u5fc3\\u6210\\u529f\\u53d1\\u5c04\\u300210\\u670826\\u65e5\\uff0c\\u795e\\u821f\\u5341\\u4e03\\u53f7\\u8f7d\\u4eba\\u98de\\u8239\\u53d1\\u5c04\\u53d6\\u5f97\\u5706\\u6ee1\\u6210\\u529f\\u3002\\u56fe\\u4e3a10\\u670829\\u65e5\\uff0c\\u795e\\u821f\\u5341\\u516d\\u53f7\\u3001\\u795e\\u821f\\u5341\\u4e03\\u53f7\\u822a\\u5929\\u5458\\u4e58\\u7ec4\\u8fdb\\u884c\\u4ea4\\u63a5\\u4eea\\u5f0f\\uff0c\\u4e24\\u4e2a\\u4e58\\u7ec4\\u79fb\\u4ea4\\u4e86\\u4e2d\\u56fd\\u7a7a\\u95f4\\u7ad9\\u7684\\u201c\\u94a5\\u5319\\u201d\\u3002\\u56fe\\u7247\\u6765\\u6e90\\uff1a\\u4e2d\\u56fd\\u8f7d\\u4eba\\u822a\\u5929\\u5de5\\u7a0b\\u529e\\u516c\\u5ba4 \\u89c6\\u89c9\\u4e2d\\u56fd\\u4f9b\\u56fe\\n\\u4e2d\\u534e\\u6587\\u660e\\u63a2\\u6e90\\u5de5\\u7a0b\\u6700\\u65b0\\u6210\\u679c\\u53d1\\u5e03\\n12\\u67089\\u65e5\\uff0c\\u56fd\\u5bb6\\u6587\\u7269\\u5c40\\u53d1\\u5e03\\u4e86\\u4e2d\\u534e\\u6587\\u660e\\u63a2\\u6e90\\u5de5\\u7a0b\\u6700\\u65b0\\u6210\\u679c\\uff0c\\u53ef\\u5c06\\u4ece\\u8ddd\\u4eca5800\\u5e74\\u81f3\\u8ddd\\u4eca3800\\u5e74\\u5212\\u5206\\u4e3a\\u53e4\\u56fd\\u65f6\\u4ee3\\u3002\\u53e4\\u56fd\\u65f6\\u4ee3\\u7b2c\\u4e00\\u9636\\u6bb5\\uff0c\\u4ee5\\u897f\\u8fbd\\u6cb3\\u6d41\\u57df\\u7684\\u725b\\u6cb3\\u6881\\u9057\\u5740\\u4e3a\\u4ee3\\u8868\\u3002\\u56fe\\u4e3a\\u725b\\u6cb3\\u6881\\u9057\\u5740\\u91c7\\u96c6\\u7684\\u7389\\u73a6\\u5f62\\u9f99\\uff0c\\u8fbd\\u5b81\\u7701\\u535a\\u7269\\u9986\\u85cf\\u3002\\u89c6\\u89c9\\u4e2d\\u56fd \\u4f9b\\u56fe\\n\\u4e2d\\u56fd\\u5f3a\\u529b\\u6253\\u51fb\\u7535\\u4fe1\\u8bc8\\u9a97\\n12\\u670810\\u65e5\\u665a\\u95f4\\uff0c\\u4e2d\\u56fd\\u516c\\u5b89\\u90e8\\u53d1\\u5e03\\u91cd\\u78c5\\u901a\\u7f09\\u4ee4\\uff0c\\u6700\\u9ad8\\u60ac\\u8d4f50\\u4e07\\u901a\\u7f09\\u767d\\u6240\\u6210\\u3001\\u9b4f\\u6000\\u4ec1\\u3001\\u5218\\u6b63\\u7965\\u7b4910\\u540d\\u7f05\\u5317\\u7535\\u4fe1\\u7f51\\u7edc\\u8bc8\\u9a97\\u5934\\u76ee\\u3002\\u4eca\\u5e7411\\u6708\\uff0c\\u516c\\u5b89\\u90e8\\u516c\\u5f00\\u901a\\u7f09\\u7f05\\u5317\\u7535\\u8bc8\\u5934\\u76ee\\u660e\\u5b66\\u660c\\u3001\\u660e\\u56fd\\u5e73\\u3001\\u660e\\u83ca\\u5170\\u3001\\u660e\\u73cd\\u73cd\\u3002\\u968f\\u540e\\u4e0d\\u4e45\\uff0c\\u9996\\u72af\\u660e\\u5b66\\u660c\\u754f\\u7f6a\\u81ea\\u6740\\uff0c\\u660e\\u56fd\\u5e73\\u3001\\u660e\\u83ca\\u5170\\u3001\\u660e\\u73cd\\u73cd3\\u4eba\\u88ab\\u7f09\\u62ff\\u5f52\\u6848\\u3002\\n\\u56fd\\u9645\\u7bc7\\n\\u4fc4\\u4e4c\\u51b2\\u7a81\\u6301\\u4e45\\u80f6\\u7740\\n\\u4fc4\\u4e4c\\u51b2\\u7a81\\u8fdb\\u5165\\u7b2c\\u4e8c\\u5e74\\u5ea6\\uff0c\\u82ac\\u5170\\u201c\\u95ea\\u7535\\u201d\\u52a0\\u5165\\u5317\\u7ea6\\uff0c\\u745e\\u5178\\u5165\\u7ea6\\u4e5f\\u53ea\\u5dee\\u6700\\u540e\\u4e00\\u6b65\\u3002\\u4e4c\\u514b\\u5170\\u7684\\u53cd\\u653b\\u4e0d\\u5982\\u9884\\u671f\\uff0c\\u8fdb\\u5165\\u75b2\\u8f6f\\u671f\\u7684\\u6b27\\u76df\\u3001\\u5317\\u7ea6\\uff0c\\u5305\\u62ec\\u7f8e\\u56fd\\u5728\\u5185\\uff0c\\u5bf9\\u4e4c\\u514b\\u5170\\u7684\\u63f4\\u52a9\\u6709\\u51cf\\u5f31\\u8d8b\\u52bf\\u3002\\u56fe\\u4e3a\\u5f53\\u5730\\u65f6\\u95f42023\\u5e746\\u67087\\u65e5\\uff0c\\u8d6b\\u5c14\\u677e\\u5730\\u533a\\uff0c\\u5361\\u970d\\u592b\\u5361\\u6c34\\u7535\\u7ad9\\u5927\\u575d\\u88ab\\u7834\\u574f\\u540e\\uff0c\\u6d2a\\u6c34\\u6df9\\u6ca1\\u8857\\u9053\\u3002\\u5230\\u5e95\\u662f\\u54ea\\u65b9\\u7834\\u574f\\u4e86\\u5927\\u575d\\uff0c\\u4fc4\\u4e4c\\u53cc\\u65b9\\u5404\\u6267\\u4e00\\u8bcd\\u3002\\u89c6\\u89c9\\u4e2d\\u56fd \\u4f9b\\u56fe\\n\\u5370\\u5ea6\\u6210\\u5168\\u7403\\u7b2c\\u4e00\\u4eba\\u53e3\\u5927\\u56fd\\n\\u6839\\u636e\\u8054\\u5408\\u56fd\\u4f30\\u8ba1\\uff0c\\u5370\\u5ea6\\u6216\\u5df2\\u5728\\u4eca\\u5e744\\u6708\\u6210\\u4e3a\\u4e16\\u754c\\u4eba\\u53e3\\u6700\\u591a\\u7684\\u56fd\\u5bb6\\u3002\\u5de8\\u5927\\u7684\\u4eba\\u53e3\\u89c4\\u6a21\\u4e5f\\u610f\\u5473\\u7740\\u5de8\\u5927\\u7684\\u589e\\u957f\\u6f5c\\u529b\\uff0c\\u5728\\u4eca\\u5e748\\u6708\\u5370\\u5ea6\\u6210\\u4e3a\\u53f2\\u4e0a\\u7b2c\\u56db\\u4e2a\\u6210\\u529f\\u767b\\u9646\\u6708\\u7403\\u7684\\u56fd\\u5bb6\\u3002\\u4f46\\u5e76\\u975e\\u4eba\\u53e3\\u8d8a\\u591a\\uff0c\\u201c\\u7ea2\\u5229\\u201d\\u8d8a\\u5927\\u3002\\u5370\\u5ea6\\u9ad8\\u7b49\\u6559\\u80b2\\u53d1\\u8fbe\\uff0c\\u4f46\\u57fa\\u7840\\u6559\\u80b2\\u5374\\u5f88\\u8584\\u5f31\\uff0c\\u9762\\u4e34\\u7740\\u6559\\u80b2\\u8d44\\u6e90\\u57ce\\u4e61\\u5dee\\u8ddd\\u5927\\u3001\\u516c\\u7acb\\u5b66\\u6821\\u6559\\u80b2\\u8d28\\u91cf\\u4f4e\\u3001\\u5973\\u7ae5\\u4e0a\\u5b66\\u7387\\u4f4e\\u7b49\\u6311\\u6218\\u3002\\u56fe\\u4e3a\\u5f53\\u5730\\u65f6\\u95f42023\\u5e743\\u670820\\u65e5\\uff0c\\u5370\\u5ea6\\u5b5f\\u4e70\\uff0c\\u9ad8\\u5cf0\\u65f6\\u6bb5\\u7684\\u8f66\\u7ad9\\u3002\\u89c6\\u89c9\\u4e2d\\u56fd \\u4f9b\\u56fe\\n\\u65b0\\u51a0\\u75ab\\u60c5\\u4e0d\\u518d\\u662f\\u56fd\\u9645\\u7a81\\u53d1\\u516c\\u5171\\u536b\\u751f\\u4e8b\\u4ef6\\n\\u5f53\\u5730\\u65f6\\u95f45\\u67085\\u65e5\\uff0c\\u4e16\\u754c\\u536b\\u751f\\u7ec4\\u7ec7\\u603b\\u5e72\\u4e8b\\u8c2d\\u5fb7\\u585e\\u5728\\u65e5\\u5185\\u74e6\\u4e3e\\u884c\\u7684\\u53d1\\u5e03\\u4f1a\\u4e0a\\u5ba3\\u5e03\\uff0c\\u65b0\\u51a0\\u75ab\\u60c5\\u4e0d\\u518d\\u6784\\u6210\\u201c\\u56fd\\u9645\\u5173\\u6ce8\\u7684\\u7a81\\u53d1\\u516c\\u5171\\u536b\\u751f\\u4e8b\\u4ef6\\u201d\\u3002\\u4ece\\u65b0\\u51a0\\u75ab\\u60c5\\u88ab\\u4e16\\u536b\\u7ec4\\u7ec7\\u5217\\u4e3a\\u56fd\\u9645\\u5173\\u6ce8\\u7684\\u7a81\\u53d1\\u516c\\u5171\\u536b\\u751f\\u4e8b\\u4ef6\\u81f3\\u4eca\\uff0c\\u7ecf\\u5386\\u4e861191\\u5929\\u3002\\u5728\\u672a\\u6765\\uff0c\\u4e16\\u754c\\u51c6\\u5907\\u597d\\u5e94\\u5bf9\\u4e0b\\u4e00\\u6b21\\u201c\\u5927\\u6d41\\u884c\\u201d\\u4e86\\u5417\\uff1f\\u56fe\\u4e3a\\u5f53\\u5730\\u65f6\\u95f44\\u67086\\u65e5\\uff0c\\u745e\\u58eb\\u65e5\\u5185\\u74e6\\uff0c\\u8c2d\\u5fb7\\u585e\\u5728\\u4e16\\u754c\\u536b\\u751f\\u7ec4\\u7ec7\\u6210\\u7acb75\\u5468\\u5e74\\u65b0\\u95fb\\u53d1\\u5e03\\u4f1a\\u4e0a\\u53d1\\u8868\\u8bb2\\u8bdd\\u3002\\u89c6\\u89c9\\u4e2d\\u56fd \\u4f9b\\u56fe\\n\\u67e5\\u5c14\\u65af\\u4e09\\u4e16\\u52a0\\u5195\\u6210\\u4e3a\\u82f1\\u56fd\\u65b0\\u541b\\u4e3b\\n\\u5f53\\u5730\\u65f6\\u95f45\\u67086\\u65e5\\uff0c\\u82f1\\u56fd\\u56fd\\u738b\\u67e5\\u5c14\\u65af\\u4e09\\u4e16\\u7684\\u52a0\\u5195\\u5178\\u793c\\u5728\\u4f26\\u6566\\u5a01\\u65af\\u654f\\u65af\\u7279\\u6559\\u5802\\u4e3e\\u884c\\u3002\\u878d\\u5408\\u4f20\\u7edf\\u793c\\u4eea\\u548c\\u73b0\\u4ee3\\u65f6\\u5c1a\\u7684\\u82f1\\u738b\\u52a0\\u5195\\u793c\\uff0c\\u4e0d\\u4ec5\\u4e3a\\u65c5\\u6e38\\u4e1a\\u3001\\u9152\\u5e97\\u4e1a\\u3001\\u5a31\\u4e50\\u884c\\u4e1a\\u7b49\\u5e26\\u6765\\u5de8\\u5927\\u6536\\u5165\\uff0c\\u800c\\u4e14\\u662f\\u5c55\\u73b0\\u82f1\\u56fd\\u8f6f\\u5b9e\\u529b\\u7684\\u673a\\u4f1a\\u3002\\u56fe\\u4e3a5\\u67086\\u65e5\\uff0c\\u82f1\\u56fd\\u56fd\\u738b\\u67e5\\u5c14\\u65af\\u4e09\\u4e16\\u548c\\u738b\\u540e\\u5361\\u7c73\\u62c9\\u4e58\\u9a6c\\u8f66\\u4ece\\u5a01\\u65af\\u654f\\u65af\\u7279\\u6559\\u5802\\u8fd4\\u56de\\u767d\\u91d1\\u6c49\\u5bab\\u3002\\u65b0\\u534e\\u793e\\u8bb0\\u8005 \\u674e\\u9896 \\u6444\\n\\u74e6\\u683c\\u7eb3\\u96c7\\u4f63\\u5175\\u8fdb\\u519b\\u83ab\\u65af\\u79d1\\n\\u5f53\\u5730\\u65f6\\u95f46\\u670824\\u65e5\\uff0c\\u74e6\\u683c\\u7eb3\\u96c7\\u4f63\\u5175\\u7ec4\\u7ec7\\u53d1\\u8d77\\u53db\\u4e71\\uff0c\\u4e00\\u5ea6\\u5360\\u9886\\u4e86\\u4fc4\\u5357\\u90e8\\u519b\\u533a\\u603b\\u90e8\\uff0c\\u5e76\\u5411\\u7740\\u9996\\u90fd\\u83ab\\u65af\\u79d1\\u8fdb\\u519b\\u300224\\u5c0f\\u65f6\\u540e\\u74e6\\u683c\\u7eb3\\u8fd4\\u56de\\u8425\\u5730\\uff0c\\u4e24\\u4e2a\\u6708\\u540e\\uff0c\\u74e6\\u683c\\u7eb3\\u8d1f\\u8d23\\u4eba\\u666e\\u91cc\\u6208\\u4efb\\u6b7b\\u4e8e\\u7a7a\\u96be\\u3002\\u56fe\\u4e3a6\\u670824\\u65e5\\uff0c\\u666e\\u91cc\\u6208\\u4efb(\\u53f3)\\u5728\\u8857\\u9053\\u4e0a\\u4e0e\\u5f53\\u5730\\u5e73\\u6c11\\u5750\\u5728\\u4e00\\u8f86\\u519b\\u8f66\\u91cc\\u81ea\\u62cd\\uff0c\\u7136\\u540e\\u79bb\\u5f00\\u4fc4\\u7f57\\u65af\\u5357\\u90e8\\u519b\\u533a\\u603b\\u90e8\\u3002\\u89c6\\u89c9\\u4e2d\\u56fd \\u4f9b\\u56fe\\n\\u7eb3\\u5361\\u5730\\u533a\\u201c\\u4e00\\u65e5\\u6218\\u4e89\\u201d\\n\\u5f53\\u5730\\u65f6\\u95f49\\u670819\\u65e5\\uff0c\\u963f\\u585e\\u62dc\\u7586\\u56fd\\u9632\\u90e8\\u5ba3\\u5e03\\u5728\\u7eb3\\u6208\\u5c14\\u8bfa-\\u5361\\u62c9\\u5df4\\u8d6b\\u5730\\u533a\\uff08\\u7b80\\u79f0\\u201c\\u7eb3\\u5361\\u201d\\uff09\\u542f\\u52a8\\u201c\\u53cd\\u6050\\u884c\\u52a8\\u201d\\uff0c\\u4e9a\\u7f8e\\u5c3c\\u4e9a\\u5e76\\u672a\\u53c2\\u6218\\u3002\\u4e00\\u65e5\\u4e4b\\u5185\\uff0c\\u7eb3\\u5361\\u5730\\u65b9\\u5f53\\u5c40\\u5ba3\\u5e03\\u6295\\u964d\\uff0c\\u4e9a\\u963f\\u4e24\\u56fd\\u4e89\\u593a\\u4e86\\u51e0\\u5341\\u5e74\\u7684\\u7eb3\\u5361\\u5730\\u533a\\u5168\\u5f52\\u963f\\u585e\\u62dc\\u7586\\u6240\\u6709\\uff0c\\u4f46\\u8fd9\\u5e76\\u4e0d\\u610f\\u5473\\u7740\\u4e24\\u56fd\\u51b2\\u7a81\\u7ed3\\u675f\\u3002\\u56fe\\u4e3a9\\u670819\\u65e5\\uff0c\\u7eb3\\u5361\\u5730\\u533a\\u65af\\u6377\\u6f58\\u7eb3\\u514b\\u7279\\u906d\\u5230\\u70ae\\u51fb\\u65f6\\uff0c\\u4e00\\u540d\\u5973\\u5b69\\u5728\\u907f\\u96be\\u6240\\u91cc\\u62b1\\u7740\\u5979\\u7684\\u4eb2\\u4eba\\u3002\\u89c6\\u89c9\\u4e2d\\u56fd \\u4f9b\\u56fe\\n\\u65b0\\u4e00\\u8f6e\\u5df4\\u4ee5\\u51b2\\u7a81\\n10\\u67087\\u65e5\\uff0c\\u54c8\\u9a6c\\u65af\\u5927\\u89c4\\u6a21\\u7a81\\u88ad\\u4ee5\\u8272\\u5217\\uff0c\\u5728\\u8fb9\\u5883\\u57ce\\u9547\\u548c\\u4e00\\u4e2a\\u97f3\\u4e50\\u8282\\u4e0a\\u6740\\u6b7b100\\u591a\\u4eba\\uff0c\\u5e76\\u52ab\\u6301\\u4eba\\u8d28200\\u591a\\u4eba\\u3002\\u4fe1\\u5949\\u201c\\u4ee5\\u7259\\u8fd8\\u7259\\u3001\\u4ee5\\u773c\\u8fd8\\u773c\\u201d\\u7684\\u4ee5\\u8272\\u5217\\u5c55\\u5f00\\u75af\\u72c2\\u62a5\\u590d\\uff0c\\u9020\\u6210\\u5927\\u89c4\\u6a21\\u4eba\\u9053\\u707e\\u96be\\u3002\\u622a\\u81f3\\u76ee\\u524d\\uff0c\\u672c\\u8f6e\\u51b2\\u7a81\\u5df2\\u5bfc\\u81f4\\u5df4\\u4ee5\\u53cc\\u65b9\\u8d85\\u8fc72\\u4e07\\u4eba\\u6b7b\\u4ea1\\u3002\\u56fe\\u4e3a\\u5f53\\u5730\\u65f6\\u95f411\\u670822\\u65e5\\uff0c\\u4eba\\u4eec\\u5728\\u52a0\\u6c99\\u5730\\u5e26\\u5357\\u90e8\\u57ce\\u5e02\\u62c9\\u6cd5\\u7684\\u5efa\\u7b51\\u5e9f\\u589f\\u4e0a\\u5b9e\\u65bd\\u6551\\u63f4\\u3002 \\u65b0\\u534e\\u793e \\u56fe\\n\\u751f\\u6210\\u5f0fAI\\u5143\\u5e74\\n2023\\u5e74\\u88ab\\u79f0\\u4e3a\\u751f\\u6210\\u5f0fAI\\u5143\\u5e74\\uff0cChatgpt\\u5e26\\u6765\\u5927\\u6a21\\u578b\\u53d1\\u5c55\\u70ed\\u6f6e\\uff0c\\u5f62\\u6210\\u201c\\u767e\\u6a21\\u5927\\u6218\\u201d\\u3002AI\\u5de8\\u5934OpenAI\\u5728\\u672c\\u5e74\\u5012\\u6570\\u7b2c\\u4e8c\\u4e2a\\u6708\\u5374\\u7ecf\\u5386\\u4e86\\u4e00\\u573a\\u53cd\\u8f6c\\u53cd\\u8f6c\\u518d\\u53cd\\u8f6c\\u7684\\u201c\\u5bab\\u6597\\u5927\\u620f\\u201d\\uff0c\\u770b\\u4f3c\\u53ea\\u662fCEO\\u8428\\u59c6\\u00b7\\u5965\\u7279\\u66fc\\u7684\\u53bb\\u7559\\u95ee\\u9898\\uff0c\\u80cc\\u540e\\u5374\\u5173\\u7cfb\\u4eba\\u5de5\\u667a\\u80fd\\u7684\\u5546\\u4e1a\\u5229\\u76ca\\u3001\\u79d1\\u5b66\\u4f26\\u7406\\u3001\\u76d1\\u7ba1\\u548c\\u5b89\\u5168\\u7b49\\u53d1\\u5c55\\u8def\\u7ebf\\u95ee\\u9898\\u3002\\u56fe\\u4e3aOpenAI\\u516c\\u53f8\\u9996\\u5e2d\\u6267\\u884c\\u5b98\\u8428\\u59c6\\u00b7\\u5965\\u7279\\u66fc\\u5728\\u52a0\\u5dde\\u65e7\\u91d1\\u5c71\\u53c2\\u52a0APEC\\u5cf0\\u4f1a\\u3002\\u89c6\\u89c9\\u4e2d\\u56fd \\u4f9b\\u56fe\\n\\u6700\\u70ed\\u7684\\u4e00\\u5e74\\n\\u5f53\\u5730\\u65f6\\u95f411\\u670830\\u65e5\\uff0c\\u4e16\\u754c\\u6c14\\u8c61\\u7ec4\\u7ec7\\u5ba3\\u5e032023\\u5e74\\u662f\\u6709\\u8bb0\\u5f55\\u4ee5\\u6765\\u4eba\\u7c7b\\u5386\\u53f2\\u4e0a\\u6700\\u70ed\\u7684\\u4e00\\u5e74\\uff0c\\u5384\\u5c14\\u5c3c\\u8bfa\\u73b0\\u8c61\\u53ef\\u80fd\\u4f1a\\u4f7f\\u660e\\u5e74\\u66f4\\u70ed\\u3002\\u4ece\\u6781\\u7aef\\u9ad8\\u6e29\\u5230\\u5e72\\u65f1\\u3001\\u7279\\u5927\\u706b\\u707e\\u3001\\u51b0\\u5ddd\\u878d\\u5316\\u3001\\u6d2a\\u6c34\\u548c\\u98d3\\u98ce\\uff0c\\u6c14\\u5019\\u5371\\u673a\\u6b63\\u5728\\u5168\\u7403\\u8086\\u8650\\u3002\\u56fe\\u4e3a\\u5f53\\u5730\\u65f6\\u95f411\\u670815\\u65e5\\uff0c\\u5df4\\u897f\\u91cc\\u7ea6\\u70ed\\u5185\\u5362\\uff0c\\u4f53\\u611f\\u6e29\\u5ea6\\u8fbe\\u5230\\u4e86\\u521b\\u7eaa\\u5f55\\u768458.5\\u6444\\u6c0f\\u5ea6\\uff0c\\u70ed\\u6d6a\\u4e2d\\u4eba\\u4eec\\u5728\\u6d77\\u6ee9\\u6d88\\u6691\\u3002\\u89c6\\u89c9\\u4e2d\\u56fd \\u4f9b\\u56fe\\n2023\\u5e74\\u70ed\\u70b9\\u5927\\u4e8b\\u4ef6\\u8fdc\\u4e0d\\u6b62\\u8fd9\\u4e9b\\uff0c\\u6211\\u4eec\\u8fd8\\u6709\\u4e00\\u957f\\u4e32\\u5019\\u9009\\u540d\\u5355\\uff0c\\u5982\\u201c\\u963f\\u6839\\u5ef7\\u7279\\u6717\\u666e\\u201d\\u201c\\u8377\\u5170\\u7279\\u6717\\u666e\\u201d\\u5206\\u522b\\u8d62\\u5f97\\u5927\\u9009\\u3001\\u201c\\u6cf0\\u5766\\u201d\\u53f7\\u6f5c\\u6c34\\u5668\\u5185\\u7206\\u3001\\u7f8e\\u56fd\\u590f\\u5a01\\u5937\\u6bdb\\u4f0a\\u5c9b\\u5927\\u706b\\u3001\\u57fa\\u8f9b\\u683c\\u53bb\\u4e16\\u3001\\u6768\\u7d2b\\u743c\\u5965\\u65af\\u5361\\u5c01\\u540e\\u3001\\u6885\\u897f\\u83b7\\u5f97\\u7b2c\\u516b\\u4e2a\\u91d1\\u7403\\u5956\\u7b49\\uff0c\\u76f8\\u4fe1\\u6bcf\\u4e2a\\u4eba\\u5fc3\\u4e2d\\u90fd\\u6709\\u81ea\\u5df1\\u76842023\\u70ed\\u70b9\\u5927\\u4e8b\\u4ef6\\u3002\\nEND\\n\\u5c01\\u9762\\u65b0\\u95fb\\u8bb0\\u8005 \\u6587\\u5eb7\\u6797 \\u7efc\\u5408\\u62a5\\u9053\\n\\u8bc4\\u8bba\\n7\\n\\u5fc3\\u6000\\u4e0d\\u8be1\\n2023-12-28\\n\\u53d1\\u8868\\u4e8e\\u56db\\u5ddd\\n\\u56fe\\u770b2023\\nfm516688\\n2023-12-26\\n\\u53d1\\u8868\\u4e8e\\u56db\\u5ddd\\n\\u7801\\u4f4f\\n\\u4e0d\\u8981\\u54ed\\u8ba9\\u8424\\u706b\\u866b\\u5e26\\u7740\\u4f60\\u9003\\u8dd1\\n2023-12-25\\n\\u53d1\\u8868\\u4e8e\\u56db\\u5ddd\\n\\u544a\\u522b2023\\n\\u53bbAPP\\u4e2d\\u53c2\\u4e0e\\u70ed\\u8bae\\u5427\\n\\u8fdd\\u6cd5\\u548c\\u4e0d\\u826f\\u4fe1\\u606f\\u4e3e\\u62a5\\u3001\\u865a\\u5047\\u65b0\\u95fb\\u4e3e\\u62a5\\u7535\\u8bdd028\\u201486969110\"}, {\"url\": \"https://www.gvm.com.tw/article/108032\", \"content\": \"\\u6210\\u70ba\\u9060\\u898b\\u6703\\u54e1\\n\\u514d\\u8cbb\\u700f\\u89bd\\u66f4\\u591a\\u5c08\\u984c\\u597d\\u6587\\n\\u70ba\\u60a8\\u63a8\\u85a6\\n\\u52a0\\u5165\\u6703\\u54e1\\u7368\\u4eab\\u512a\\u60e0\\n\\u6210\\u70ba\\u9060\\u898b\\u6703\\u54e1\\n\\u514d\\u8cbb\\u700f\\u89bd\\u66f4\\u591a\\u5c08\\u984c\\u597d\\u6587\\n\\u70ba\\u60a8\\u63a8\\u85a6\\n\\u52a0\\u5165\\u6703\\u54e1\\u7368\\u4eab\\u512a\\u60e0\\n\\u6587\\u7ae0\\n\\u7279\\u8f2f\\n\\u8a02\\u95b1\\n\\u7279\\u8272\\u983b\\u9053\\n\\u95dc\\u65bc\\u6211\\u5011\\n\\u8b80\\u8005\\u670d\\u52d9\\u90e8\\u96fb\\u8a71\\uff1a(02)2662-0012\\n\\u670d\\u52d9\\u6642\\u9593\\uff1a\\u9031\\u4e00 ~ \\u9031\\u4e94 9:00\\uff5e12:30\\uff1b13:30\\uff5e17:00\\n\\u670d\\u52d9\\u4fe1\\u7bb1\\uff1agvm@cwgv.com.tw\\n2023\\u5168\\u740310\\u5927\\u4e8b\\u4ef6\\uff1a\\u9664\\u4ee5\\u5df4\\u885d\\u7a81\\u3001\\u597d\\u840a\\u5862\\u7f77\\u5de5\\u9084\\u6709\\u54ea\\u4e9b\\uff1f\\n\\u4e2d\\u592e\\u793e\\n2023-11-30\\n\\u700f\\u89bd\\u6578 1,600+\\n\\u9060\\u898b\\u63a8\\u85a6\\n\\u4e2d\\u92fc\\u6436\\u78b3\\u6b0a\\u4ea4\\u6613\\u982d\\u9999\\u64ec\\u8cfc500\\u5678\\uff01\\u78b3\\u4ea4\\u624022\\u65e5\\u4e0a\\u7dda\\uff0c\\u9019\\u4e9b\\u4f01\\u696d\\u90fd\\u60f3\\u6436\\u9032\\n\\u54c8\\u746a\\u65af\\u5c0d\\u4ee5\\u8272\\u5217\\u767c\\u52d5\\u6b98\\u66b4\\u653b\\u64ca\\uff0c\\u6fc0\\u767c\\u96d9\\u65b9\\u4ea4\\u6230\\u4e4b\\u5916\\uff0c\\u5404\\u570b\\u592a\\u7a7a\\u7af6\\u8cfd\\u767d\\u71b1\\u5316\\uff0c\\u9084\\u6709\\u597d\\u840a\\u5862\\u7f77\\u5de5\\u7b49\\uff0c2023\\u5e74\\u53ef\\u8aaa\\u662f\\u52d5\\u76ea\\u7684\\u4e00\\u5e74\\uff0c\\u4ee5\\u4e0b\\u70ba\\u6cd5\\u65b0\\u793e\\u6574\\u7406\\u768410\\u5927\\u4e8b\\u4ef6\\u3002\\n\\u4ee5\\u54c8\\u6230\\u722d\\n10\\u67087\\u65e5\\uff0c\\u5df4\\u52d2\\u65af\\u5766\\u4f0a\\u65af\\u862d\\u6b66\\u88dd\\u7d44\\u7e54\\u54c8\\u746a\\u65af\\uff08Hamas\\uff09\\u6578\\u767e\\u540d\\u69cd\\u624b\\u5f9e\\u52a0\\u85a9\\uff08Gaza\\uff09\\u8de8\\u5883\\u6e67\\u5165\\u4ee5\\u8272\\u5217\\uff0c\\u6bba\\u5bb3\\u7d041200\\u4eba\\uff0c\\u5176\\u4e2d\\u5927\\u90e8\\u5206\\u70ba\\u5e73\\u6c11\\uff0c\\u9084\\u633e\\u6301240\\u540d\\u4eba\\u8cea\\u3002\\u9019\\u662f\\u4ee5\\u8272\\u5217\\u53f2\\u4e0a\\u6700\\u56b4\\u91cd\\u7684\\u653b\\u64ca\\uff0c\\u9707\\u9a5a\\u5168\\u7403\\u3002\\n\\u4ee5\\u8272\\u5217\\u7e3d\\u7406\\u5c3c\\u5766\\u96c5\\u80e1\\uff08Benjamin Netanyahu\\uff09\\u8a93\\u8a00\\u300c\\u6467\\u6bc0\\u300d\\u54c8\\u746a\\u65af\\u4e4b\\u969b\\uff0c\\u4ee5\\u8272\\u5217\\u5148\\u5f8c\\u5c0d\\u52a0\\u85a9\\u767c\\u52d5\\u7a7a\\u8972\\u53ca\\u5730\\u9762\\u884c\\u52d5\\uff0c\\u91cd\\u5275\\u9019\\u584a\\u4eba\\u53e3\\u5bc6\\u96c6\\u7684\\u5df4\\u52d2\\u65af\\u5766\\u9818\\u571f\\u3002\\u96a8\\u8457\\u52a0\\u85a9\\u6b7b\\u4ea1\\u4eba\\u6578\\u6500\\u5347\\u4e14\\u906d\\u7834\\u58de\\u7684\\u60c5\\u6cc1\\u8d8a\\u8da8\\u56b4\\u91cd\\uff0c\\u4ee5\\u8272\\u5217\\u9762\\u81e8\\u8d8a\\u4f86\\u8d8a\\u5927\\u7684\\u570b\\u969b\\u58d3\\u529b\\uff0c\\u8981\\u6c42\\u5176\\u66ab\\u505c\\u653b\\u52e2\\u3002\\n\\u4ee5\\u54c8\\u958b\\u6230\\u9081\\u5165\\u7b2c7\\u9031\\u5f8c\\uff0c\\u96d9\\u65b9\\u540c\\u610f\\u4f11\\u62304\\u5929\\u3002\\u7d71\\u6cbb\\u52a0\\u85a9\\u7684\\u54c8\\u746a\\u65af\\u653f\\u5e9c\\u4f30\\u8a08\\uff0c\\u4ee5\\u8272\\u5217\\u884c\\u52d5\\u9020\\u6210\\u903e\\u842c\\u540d\\u5df4\\u52d2\\u65af\\u5766\\u4eba\\u55aa\\u547d\\uff0c\\u5176\\u4e2d\\u591a\\u70ba\\u5e73\\u6c11\\uff0c\\u5305\\u62ec\\u6578\\u4ee5\\u5343\\u8a08\\u7684\\u5b69\\u7ae5\\u3002\\n\\u5728\\u4f11\\u6230\\u5354\\u8b70\\u4e0b\\uff0c\\u54c8\\u746a\\u65af\\u91cb\\u653e50\\u540d\\u5a66\\u5b7a\\u4eba\\u8cea\\uff0c\\u4ea4\\u63db\\u4ee5\\u8272\\u5217\\u91cb\\u653e150\\u540d\\u5df4\\u52d2\\u65af\\u5766\\u56da\\u72af\\uff0c\\u5168\\u70ba\\u5a66\\u5973\\u53ca\\u672a\\u6210\\u5e74\\u4eba\\u300211\\u670827\\u65e5\\uff0c\\u4ee5\\u54c8\\u96d9\\u65b9\\u540c\\u610f\\u4f11\\u6230\\u5ef6\\u95772\\u5929\\uff0c\\u6709\\u66f4\\u591a\\u4eba\\u8cea\\u8207\\u56da\\u72af\\u7372\\u91cb\\u3002\\n\\u70cf\\u514b\\u862d\\u8cbb\\u529b\\u7684\\u53cd\\u653b\\n\\u57fa\\u8f14\\u7d2f\\u7a4d\\u4e86\\u5927\\u6279\\u706b\\u529b\\u5f37\\u5927\\u3001\\u7531\\u897f\\u65b9\\u570b\\u5bb6\\u88fd\\u9020\\u7684\\u6b66\\u5668\\u4e26\\u8a13\\u7df4\\u65b0\\u5175\\uff0c\\u5728\\u906d\\u4fc4\\u7f85\\u65af\\u5165\\u4fb516\\u500b\\u6708\\u5f8c\\uff0c\\u767c\\u52d5\\u5099\\u53d7\\u671f\\u5f85\\u7684\\u53cd\\u653b\\u884c\\u52d5\\uff0c\\u537b\\u672a\\u80fd\\u8b93\\u4fc4\\u7f85\\u65af\\u7684\\u9632\\u7dda\\u5927\\u5e45\\u5f8c\\u9000\\u3002\\n11\\u6708\\u5e95\\uff0c\\u70cf\\u514b\\u862d\\u5ba3\\u5e03\\u5728\\u4fc4\\u7f85\\u65af\\u5360\\u9818\\u7684\\u7b2c\\u8076\\u4f2f\\u6cb3\\uff08Dnipro river\\uff09\\u5de6\\u5cb8\\u53d6\\u5f97\\u9032\\u5c55\\uff0c\\u9019\\u662f\\u57fa\\u8f14\\u6578\\u6708\\u4f86\\u7684\\u91cd\\u5927\\u6210\\u529f\\u3002\\u4e0d\\u904e\\uff0c\\u96a8\\u8457\\u51ac\\u5b63\\u5230\\u4f86\\uff0c\\u4fc4\\u70cf\\u96d9\\u65b9\\u770b\\u4f3c\\u4ecd\\u6df1\\u9677\\u6230\\u722d\\u6ce5\\u6dd6\\u3002\\n\\u6bc0\\u6ec5\\u6027\\u5f37\\u9707\\n2\\u67086\\u65e5\\u51cc\\u6668\\uff0c\\u571f\\u8033\\u5176\\u6771\\u5357\\u90e8\\u767c\\u751f\\u898f\\u6a217.8\\u7684\\u4e16\\u7d00\\u5f37\\u9707\\uff0c\\u597d\\u5e7e\\u5ea7\\u57ce\\u5e02\\u6158\\u906d\\u5937\\u5e73\\uff0c\\u9020\\u6210\\u81f3\\u5c115\\u842c6000\\u4eba\\u55aa\\u751f\\u3002\\u9130\\u8fd1\\u7684\\u6558\\u5229\\u4e9e\\u5883\\u5167\\u4e5f\\u6709\\u8fd16000\\u4eba\\u6b7b\\u4ea1\\u3002\\n7\\u500b\\u6708\\u5f8c\\uff0c\\u975e\\u6d32\\u570b\\u5bb6\\u6469\\u6d1b\\u54e5\\u57289\\u67088\\u65e5\\u4e5f\\u767c\\u751f\\u53f2\\u4e0a\\u6700\\u56b4\\u91cd\\u7684\\u5730\\u9707\\uff0c\\u5c0e\\u81f4\\u8fd13000\\u4eba\\u55aa\\u751f\\u3002\\n\\u975e\\u6d32\\u51fa\\u73fe\\u66f4\\u591a\\u653f\\u8b8a\\n\\u975e\\u6d32\\u4ee5\\u6cd5\\u8a9e\\u70ba\\u4e3b\\u8981\\u8a9e\\u8a00\\u7684\\u5730\\u53402023\\u5e74\\u6301\\u7e8c\\u7206\\u767c\\u653f\\u8b8a\\uff0c\\u9020\\u6210\\u56b4\\u91cd\\u6c11\\u4e3b\\u5012\\u9000\\u3002\\u5176\\u4e2d\\uff0c\\u5c3c\\u65e5\\u3001\\u52a0\\u5f6d\\u662f\\u6700\\u65b0\\u767c\\u751f\\u6c11\\u9078\\u7e3d\\u7d71\\u906d\\u63a8\\u7ffb\\u7684\\u570b\\u5bb6\\u3002\\u4e0d\\u53d7\\u6b61\\u8fce\\u7684\\u6cd5\\u570b\\u88ab\\u8feb\\u64a4\\u56de\\u6d3e\\u99d0\\u5c3c\\u65e5\\u7684\\u5927\\u4f7f\\u53ca\\u53cd\\u6050\\u90e8\\u968a\\u3002\\n\\u8a02\\u95b1\\u9060\\u898b\\u96fb\\u5b50\\u5831\\uff0c\\u638c\\u63e1\\u570b\\u5167\\u5916\\u5927\\u4e8b\\n\\u5c3c\\u65e5\\u8ecd\\u65b9\\u65bc7\\u670826\\u65e5\\u76e3\\u7981\\u7e3d\\u7d71\\u8c9d\\u4f50\\u59c6\\uff08Mohamed Bazoum\\uff09\\u4e26\\u89e3\\u6563\\u6c11\\u9078\\u653f\\u5e9c\\u3002\\u52a0\\u5f6d\\u7e3d\\u7d71\\u963f\\u91cc\\uff0e\\u5f6d\\u6208\\uff08Ali Bongo Ondimba\\uff09\\u5247\\u662f\\u5728\\u4eca\\u5e748\\u6708\\u8ecd\\u65b9\\u53ca\\u53cd\\u5c0d\\u9663\\u71df\\u5ba3\\u7a31\\u9078\\u8209\\u7d50\\u679c\\u9020\\u5047\\u5f8c\\uff0c\\u906d\\u5230\\u7f77\\u9edc\\u3002\\n\\u597d\\u840a\\u5862\\u7f77\\u5de5\\n\\u751f\\u6210\\u5f0fAI\\u7528\\u65bc\\u5275\\u610f\\u7d93\\u6fdf\\u7684\\u64d4\\u6182\\u4eca\\u5e74\\u5ef6\\u71d2\\u81f3\\u597d\\u840a\\u5862\\uff0c\\u5c0e\\u81f4\\u7de8\\u52875\\u6708\\u96c6\\u9ad4\\u7f77\\u5de5\\uff0c\\u8981\\u6c42\\u9650\\u7e2e\\u4eba\\u5de5\\u667a\\u6167\\uff08AI\\uff09\\u5728\\u96fb\\u5f71\\u4e2d\\u7684\\u4f7f\\u7528\\u53ca\\u8abf\\u6f32\\u85aa\\u8cc7\\u3002\\n\\u597d\\u840a\\u5862\\u6f14\\u54e1\\u4e5f\\u57287\\u6708\\u52a0\\u5165\\u597d\\u840a\\u58621960\\u5e74\\u4ee3\\u4ee5\\u4f86\\u7684\\u6700\\u5927\\u7f77\\u5de5\\u6f6e\\uff0c\\u4e26\\u5ba3\\u7a31\\u975eA\\u5496\\u6f14\\u54e1\\u5df2\\u4e0d\\u53ef\\u80fd\\u904e\\u9ad4\\u9762\\u7684\\u751f\\u6d3b\\uff0c\\u64d4\\u6182AI\\u6050\\u88ab\\u7528\\u4f86\\u8907\\u88fd\\u4ed6\\u5011\\u7684\\u8072\\u97f3\\u53ca\\u5916\\u8868\\u3002\\n\\u9019\\u6ce2\\u7f77\\u5de5\\u6f6e\\u7671\\u7613\\u4e86\\u597d\\u840a\\u5862\\u5a1b\\u6a02\\u7522\\u696d\\uff0c\\u9020\\u6210\\u6578\\u4ee5\\u767e\\u8a08\\u7684\\u71b1\\u9580\\u7bc0\\u76ee\\u53ca\\u96fb\\u5f71\\u5ef6\\u5b95\\u3002\\u5728\\u7de8\\u5287\\u91cd\\u8fd4\\u5de5\\u4f5c\\u5d17\\u4f4d\\u76842\\u500b\\u6708\\u5f8c\\uff0c\\u597d\\u840a\\u5862\\u6f14\\u54e111\\u6708\\u4e5f\\u8207\\u96fb\\u5f71\\u516c\\u53f8\\u9054\\u6210\\u5354\\u8b70\\u3002\\n\\u81f4\\u547d\\u706b\\u707d\\n\\u6b50\\u76df\\u6c23\\u5019\\u76e3\\u6e2c\\u55ae\\u4f4d\\u9810\\u6e2c2023\\u5e74\\u5c07\\u662f\\u53f2\\u4e0a\\u6700\\u71b1\\u7684\\u4e00\\u5e74\\u3002\\u6c23\\u5019\\u8b8a\\u9077\\u5c0e\\u81f4\\u65f1\\u707d\\u66f4\\u70ba\\u56b4\\u91cd\\uff0c\\u5df2\\u88ab\\u8996\\u70ba\\u7f8e\\u570b\\u590f\\u5a01\\u5937\\u6bdb\\u4f0a\\u5cf6\\uff08Maui\\uff098\\u6708\\u767c\\u751f\\u4e16\\u7d00\\u6700\\u56b4\\u91cd\\u91ce\\u706b\\u707d\\u60c5\\u7684\\u5176\\u4e2d\\u4e00\\u500b\\u539f\\u56e0\\uff0c\\u9019\\u5834\\u707d\\u96e3\\u596a\\u8d70\\u81f3\\u5c11115\\u689d\\u4eba\\u547d\\u3002\\n\\u5e0c\\u81d8\\u7f85\\u5f97\\u65af\\u5cf6\\uff08Rhodes\\uff09\\u53ca\\u79d1\\u5b5a\\u5cf6\\uff08Corfu\\uff09\\u7684\\u904a\\u5ba2\\u8207\\u5c45\\u6c11\\u4e5f\\u88ab\\u8feb\\u9003\\u96e2\\u5927\\u898f\\u6a21\\u91ce\\u706b\\u3002\\u4e0d\\u904e\\uff0c\\u4ee5\\u706b\\u707d\\u6ce2\\u53ca\\u9762\\u7a4d\\u4f86\\u770b\\uff0c\\u52a0\\u62ff\\u5927\\u60c5\\u6cc1\\u6700\\u70ba\\u56b4\\u91cd\\uff0c\\u8d85\\u904e1800\\u842c\\u516c\\u9803\\u7684\\u68ee\\u6797\\u906d\\u711a\\u71d2\\u3002\\n\\u592a\\u7a7a\\u7af6\\u8cfd\\n2023\\u5e74\\u592a\\u7a7a\\u7af6\\u8cfd\\u66f4\\u52a0\\u767d\\u71b1\\u5316\\uff0c\\u5d1b\\u8d77\\u7684\\u5370\\u5ea6\\u65bc8\\u6708\\u5b8c\\u6210\\u6708\\u7403\\u767b\\u9678\\u5668\\u5728\\u6708\\u7403\\u5357\\u6975\\u8457\\u9678\\u7684\\u5275\\u8209\\uff0c\\u9019\\u50c5\\u662f\\u4fc4\\u7f85\\u65af\\u63a2\\u6e2c\\u5668\\u5931\\u63a7\\u649e\\u4e0a\\u6708\\u7403\\u3001\\u5ba3\\u544a\\u4efb\\u52d9\\u5931\\u6557\\u7684\\u5e7e\\u5929\\u5f8c\\u3002\\n\\u81ea\\u7f8e\\u570b\\u592a\\u7a7a\\u4eba\\u963f\\u59c6\\u65af\\u58ef\\uff08Neil Armstrong\\uff091969\\u5e74\\u6210\\u70ba\\u53f2\\u4e0a\\u9996\\u4f4d\\u8e0f\\u4e0a\\u6708\\u7403\\u7684\\u4eba\\u985e\\u4ee5\\u4f86\\uff0c\\u4e0d\\u5c11\\u570b\\u5bb6\\u722d\\u76f8\\u8981\\u628a\\u4eba\\u985e\\u9001\\u5230\\u6708\\u7403\\u3002\\u7f8e\\u570b\\u570b\\u5bb6\\u822a\\u7a7a\\u66a8\\u592a\\u7a7a\\u7e3d\\u7f72\\uff08NASA\\uff09\\u8a08\\u52832025\\u5e74\\u5de6\\u53f3\\u57f7\\u884c\\u8f09\\u4eba\\u767b\\u6708\\u4efb\\u52d9\\uff0c\\u4e2d\\u570b\\u8207\\u5370\\u5ea6\\u5247\\u5206\\u5225\\u8457\\u773c2030\\u5e74\\u30012040\\u5e74\\u3002\\n\\u897f\\u73ed\\u7259\\u5f37\\u543b\\u4e8b\\u4ef6\\n\\u4eca\\u5e748\\u6708\\u5973\\u8db3\\u4e16\\u754c\\u76c3\\u897f\\u73ed\\u7259\\u6c23\\u8d70\\u82f1\\u683c\\u862d\\uff0c\\u9996\\u5ea6\\u767b\\u4e0a\\u51a0\\u8ecd\\u5bf6\\u5ea7\\uff0c\\u897f\\u73ed\\u7259\\u8209\\u570b\\u6b61\\u9a30\\u3002\\u4f46\\u559c\\u6085\\u4e4b\\u60c5\\u5f88\\u5feb\\u5c31\\u8f49\\u70ba\\u61a4\\u6012\\uff0c\\u539f\\u56e0\\u662f\\u897f\\u73ed\\u7259\\u7687\\u5bb6\\u8db3\\u7403\\u5354\\u6703\\u4e3b\\u5e2d\\u76e7\\u6bd4\\u4e9e\\u96f7\\u65af\\uff08Luis Rubiales\\uff09\\u5728\\u897f\\u73ed\\u7259\\u596a\\u51a0\\u5f8c\\uff0c\\u672a\\u5f97\\u5230\\u540c\\u610f\\u5c31\\u5c0d\\u5634\\u89aa\\u543b\\u5973\\u7403\\u54e1\\u3002\\n\\u5973\\u7403\\u54e1\\u4e8b\\u5f8c\\u5f62\\u5bb9\\u9019\\u500b\\u543b\\u70ba\\u300c\\u4fb5\\u72af\\u300d\\u3002\\u4f46\\u76e7\\u6bd4\\u4e9e\\u96f7\\u65af\\u5805\\u7a31\\u662f\\u96d9\\u65b9\\u540c\\u610f\\uff0c\\u5f15\\u7206\\u6c11\\u773e\\u6012\\u706b\\uff0c\\u6700\\u7d42\\u8fad\\u8077\\u4e0b\\u53f0\\u3002\\n\\u9ad8\\u52a0\\u7d22\\u5730\\u5340\\u5c45\\u6c11\\u51fa\\u9003\\n\\u7d0d\\u6208\\u723e\\u8afe\\uff0e\\u5361\\u62c9\\u5df4\\u8d6b\\uff08Nagorno-Karabakh\\uff0c\\u7c21\\u7a31\\u7d0d\\u5361\\u5340\\uff09\\u591a\\u5e74\\u4f86\\u5c0b\\u6c42\\u7368\\u7acb\\u7684\\u52aa\\u529b\\u57289\\u6708\\u5283\\u4e0b\\u53e5\\u9ede\\uff0c\\u5206\\u96e2\\u4e3b\\u7fa9\\u5206\\u5b50\\u81ea1990\\u5e74\\u4ee3\\u4ee5\\u4f86\\u7684\\u62b5\\u6297\\u884c\\u52d5\\u5ba3\\u544a\\u5931\\u6557\\uff0c\\u7531\\u4e9e\\u585e\\u62dc\\u7136\\u5ba3\\u5e03\\u91cd\\u65b0\\u596a\\u56de\\u5c0d\\u6b64\\u5340\\u57df\\u7684\\u63a7\\u5236\\u6b0a\\u3002\\n\\u5361\\u62c9\\u5df4\\u8d6b\\u5c45\\u6c11\\u56e0\\u64d4\\u5fc3\\u767c\\u751f\\u66b4\\u529b\\u884c\\u70ba\\uff0c\\u4e5f\\u4e0d\\u60f3\\u88ab\\u4e9e\\u585e\\u62dc\\u7136\\u7d71\\u6cbb\\uff0c\\u7d1b\\u7d1b\\u9003\\u5230\\u4e9e\\u7f8e\\u5c3c\\u4e9e\\u3002\\n\\u963f\\u6839\\u5ef7\\u5411\\u53f3\\u50be\\n\\u963f\\u6839\\u5ef7\\u572811\\u6708\\u9078\\u51fa\\u6975\\u53f3\\u6d3e\\u81ea\\u7531\\u4e3b\\u7fa9\\u7d93\\u6fdf\\u5b78\\u5bb6\\u7c73\\u96f7\\u4f0a\\uff08Javier Milei\\uff09\\u4f5c\\u70ba\\u4e0b\\u4efb\\u7e3d\\u7d71\\u3002\\n\\u7d20\\u6709\\u963f\\u6839\\u5ef7\\u5ddd\\u666e\\u4e4b\\u7a31\\u7684\\u7c73\\u96f7\\u4f0a\\u4e3b\\u5f35\\u5ee2\\u9664\\u963f\\u6839\\u5ef7\\u4e2d\\u592e\\u9280\\u884c\\uff0c\\u627f\\u8afe\\u5c07\\u91ab\\u7642\\u53ca\\u6559\\u80b2\\u79c1\\u6709\\u5316\\uff0c\\u9084\\u8a08\\u5283\\u5c0d\\u5ee2\\u9664\\u58ae\\u80ce\\u6cd5\\u8209\\u884c\\u516c\\u6295\\u3002\\u4ed6\\u4e5f\\u8a8d\\u70ba\\u963f\\u6839\\u5ef7\\u61c9\\u5168\\u9762\\u7f8e\\u5143\\u5316\\u3002\\n\\u672c\\u6587\\u8f49\\u8f09\\u81ea2023.11.29\\u300c\\u4e2d\\u592e\\u793e\\u300d\\uff0c\\u50c5\\u53cd\\u6620\\u4f5c\\u8005\\u610f\\u898b\\uff0c\\u4e0d\\u4ee3\\u8868\\u672c\\u793e\\u7acb\\u5834\\u3002\\n\\u5ef6\\u4f38\\u95b1\\u8b80\\n\\u4e0d\\u65b7\\u66f4\\u65b0\\u300b\\u4ee5\\u5df4\\u6230\\u722d\\u82e5\\u8981\\u505c\\u706b\\uff0c\\u7d0d\\u5766\\u96c5\\u80e1\\u5f97\\u5148\\u4e0b\\u53f0\\uff1f\\n\\u5b8c\\u7f8e\\u5728\\u590f\\u5a01\\u5937\\u5927\\u706b\\u4e2d\\u5016\\u514d\\u65bc\\u96e3\\uff01\\u9019\\u68df\\u767e\\u5e74\\u6b77\\u53f2\\u7684\\u6728\\u5c4b\\u7a76\\u7adf\\u662f\\u5982\\u4f55\\u8fa6\\u5230\\u7684\\uff1f\\n\\u963f\\u6839\\u5ef7\\u7e3d\\u7d71\\u5927\\u9078\\u7d50\\u679c\\u51fa\\u7210\\uff01\\u53f2\\u4e0a\\u9996\\u500b\\u300cAI\\u9078\\u6230\\u300d\\u6572\\u97ff\\u653f\\u6cbb\\u5ee3\\u544a\\u8b66\\u9418\\n\\u52a0\\u597d\\u53cb\\u638c\\u63e1\\u8da8\\u52e2\\n\\u95dc\\u6ce8FB\\u71b1\\u9580\\u8b70\\u984c\\n\\u548c\\u5e73\\u53f0\\u7063\\uff1f\\u6230\\u722d\\u53f0\\u7063\\uff1f\\n\\u4e16\\u754c\\u771f\\u7684\\u5f88\\u4e0d\\u5e73\\u975c\\uff01\\u5168\\u7403\\u516c\\u8a8d\\u7684\\u56db\\u5927\\u706b\\u85e5\\u5eab\\u300c\\u4fc4\\u70cf\\u3001\\u4ee5\\u5df4\\u3001\\u5357\\u5317\\u97d3\\u3001\\u53f0\\u6d77\\u300d\\uff0c\\u76ee\\u524d\\u5df2\\u9ede\\u71c3\\u5169\\u5ea7\\u3002\\u5169\\u5cb8\\u95dc\\u4fc2\\u6025\\u8f49\\u76f4\\u4e0b\\uff0c\\u662f\\u4e0d\\u722d\\u7684\\u4e8b\\u5be6\\u3002\\u6700\\u7d42\\uff0c\\u53f0\\u6d77\\u6703\\u5448\\u73fe\\u5c0d\\u6297\\u9084\\u662f\\u548c\\u89e3\\uff0c2024\\u5e741\\u670813\\u65e5\\u5c07\\u662f\\u6c7a\\u5b9a\\u53f0\\u7063\\u672a\\u4f86\\u7684\\u95dc\\u9375\\u6642\\u523b\\uff01\\n\\u71b1\\u9580\\n\\u627e\\u56de\\u5bb6\\u7684\\u8def\\uff0115\\u5929\\u8e72\\u9ede\\u5947\\u5e7b\\u65c5\\u7a0b\\n\\u52a0\\u5165\\u7da0\\u8272\\u884c\\u5217 \\u5f9e\\u6c38\\u7e8c\\u6d88\\u8cbb\\u505a\\u8d77\\uff01\\n\\u5f9e\\u8001\\u5c4b\\u6574\\u4fee \\u91cd\\u65b0\\u555f\\u52d5\\u7f8e\\u597d\\u751f\\u6d3b\\uff01\\n\\u8df3\\u812b\\u8212\\u9069\\u5708\\uff01\\u7528\\u9752\\u6625\\u89e3\\u69cb\\u53f0\\u7063\\u6a23\\u8c8c\\n\\u5c08\\u5bb6\\uff1a\\u6297\\u85e5\\u6027\\u5168\\u7403\\u707d\\u96e3\\u9700\\u5168\\u6c11\\u95dc\\u6ce8\\n\\u764c\\u53cb\\u98f2\\u98df\\u95dc\\u9375\\uff016\\u5927\\u5730\\u96f7\\u8207\\u539f\\u5247\\n\\u8de8\\u57df\\u7576\\u9053\\uff01\\u6253\\u9020\\u7522\\u696d\\u8f49\\u578b\\u751f\\u529b\\u8ecd\\n\\u4e5d\\u964d\\u98a8\\u4e4b\\u57ce\\u300b\\u65b0\\u7af9UPgrade\\n\\u843d\\u5be6\\u6de8\\u96f6\\u5efa\\u7bc9 \\u9081\\u54112050\\u6de8\\u96f6\\n\\u9752\\u6625\\u9078\\u4fee\\u8ab2\\u2027\\u770b\\u898b\\u53f0\\u7063\\u5728\\u5730\\u529b\\u91cf\\uff01\\n\\u8acb\\u5f80\\u4e0b\\u7e7c\\u7e8c\\u95b1\\u8b80\\n\\u71b1\\u9580\\n\\u627e\\u56de\\u5bb6\\u7684\\u8def\\uff0115\\u5929\\u8e72\\u9ede\\u5947\\u5e7b\\u65c5\\u7a0b\\n\\u52a0\\u5165\\u7da0\\u8272\\u884c\\u5217 \\u5f9e\\u6c38\\u7e8c\\u6d88\\u8cbb\\u505a\\u8d77\\uff01\\n\\u5f9e\\u8001\\u5c4b\\u6574\\u4fee \\u91cd\\u65b0\\u555f\\u52d5\\u7f8e\\u597d\\u751f\\u6d3b\\uff01\\n\\u8df3\\u812b\\u8212\\u9069\\u5708\\uff01\\u7528\\u9752\\u6625\\u89e3\\u69cb\\u53f0\\u7063\\u6a23\\u8c8c\\n\\u5c08\\u5bb6\\uff1a\\u6297\\u85e5\\u6027\\u5168\\u7403\\u707d\\u96e3\\u9700\\u5168\\u6c11\\u95dc\\u6ce8\\n\\u764c\\u53cb\\u98f2\\u98df\\u95dc\\u9375\\uff016\\u5927\\u5730\\u96f7\\u8207\\u539f\\u5247\\n\\u8de8\\u57df\\u7576\\u9053\\uff01\\u6253\\u9020\\u7522\\u696d\\u8f49\\u578b\\u751f\\u529b\\u8ecd\\n\\u4e5d\\u964d\\u98a8\\u4e4b\\u57ce\\u300b\\u65b0\\u7af9UPgrade\\n\\u843d\\u5be6\\u6de8\\u96f6\\u5efa\\u7bc9 \\u9081\\u54112050\\u6de8\\u96f6\\n\\u9752\\u6625\\u9078\\u4fee\\u8ab2\\u2027\\u770b\\u898b\\u53f0\\u7063\\u5728\\u5730\\u529b\\u91cf\\uff01\\n\\u8fd1\\u671f\\u71b1\\u9580\\u6587\\u7ae0\\n\\u9000\\u4f11\\u5f8c\\uff0c\\u624d\\u77e5\\u9053\\u4e0a\\u73ed\\u9664\\u4e86\\u8cfa\\u9322\\u5916\\u7684\\u5176\\u4ed6\\u7528\\u8655\\n\\u70ba\\u4ec0\\u9ebc\\u5a5a\\u59fb\\u95dc\\u4fc2\\uff0c\\u5728\\u9000\\u4f11\\u5f8c\\u6703\\u8b8a\\u5f97\\u5982\\u6b64\\u53ef\\u6015\\uff1f\\n Foodpanda\\u95dc\\u9589\\u5728\\u53f0\\u79d1\\u6280\\u4e2d\\u5fc3\\uff0c\\u6bcd\\u516c\\u53f8\\u88c1\\u54e113%\\n2023 \\u5e74 12 \\u6708\\u865f2024\\u8106\\u5f31\\u4e2d \\u8fce\\u5fa9\\u7526\\n65\\u4f4d\\u95dc\\u9375\\u9818\\u8896 \\u5171\\u5275\\u548c\\u5e73\\u65b0\\u4e16\\u7d00\\n\\u770b\\u6b64\\u6587\\u7ae0\\u7684\\u4eba\\u4e5f\\u770b\\u4e86...\\n\\u5168\\u7403\\u6700\\u5f37\\u8b77\\u7167\\u6392\\u540d\\u51fa\\u7210\\uff01\\u9019\\u570b\\u5c45\\u699c\\u9996\\uff0c\\u53f0\\u7063\\u9818\\u5148129\\u500b\\u570b\\u5bb6\\nFoodpanda\\u95dc\\u9589\\u5728\\u53f0\\u79d1\\u6280\\u4e2d\\u5fc3\\uff0c\\u6bcd\\u516c\\u53f8\\u88c1\\u54e113%\\n\\u3010\\u89e3\\u6790\\u3011AI PC\\u63db\\u6a5f\\u6f6e2024\\u4f86\\u4e0d\\u4f86\\uff1f\\u82f1\\u7279\\u723e\\u65b0\\u54c1\\u6709\\u7384\\u6a5f\\n\\u52a0\\u597d\\u53cb\\u638c\\u63e1\\u8da8\\u52e2\\n\\u95dc\\u6ce8FB\\u71b1\\u9580\\u8b70\\u984c\\n\\u767b\\u5165\\u7db2\\u7ad9\\u6703\\u54e1\\n\\u4eab\\u53d7\\u66f4\\u591a\\u500b\\u4eba\\u5316\\u7684\\u6703\\u54e1\\u670d\\u52d9\\n\\u52a0\\u5165\\u7db2\\u8def\\u6703\\u54e1\\uff0c\\u4eab\\u53d7\\u8b80\\u8005\\u5c08\\u5c6c\\u6b0a\\u76ca\\n\\u95dc\\u65bc\\u6211\\u5011\\n\\u6587\\u7ae0\\n\\u8b80\\u8005\\u670d\\u52d9\\u90e8\\u96fb\\u8a71\\uff1a(02)2662-0012\\n\\u670d\\u52d9\\u6642\\u9593\\uff1a\\u9031\\u4e00 ~ \\u9031\\u4e94 9:00\\uff5e12:30\\uff1b13:30\\uff5e17:00\\n\\u670d\\u52d9\\u4fe1\\u7bb1\\uff1agvm@cwgv.com.tw\\nCopyright\\u00a9 1999~2023\\u9060\\u898b\\u5929\\u4e0b\\u6587\\u5316\\u51fa\\u7248\\u80a1\\u4efd\\u6709\\u9650\\u516c\\u53f8. 1.5\\u5ea6C\\u9632\\u7dda\\uff5cCOP28\\u8ad6\\u58c7\\u71b1\\u70c8\\u5831\\u540d\\u4e2d\\n\\u70ba\\u63d0\\u4f9b\\u60a8\\u66f4\\u591a\\u512a\\u8cea\\u7684\\u5167\\u5bb9\\uff0c\\u672c\\u7db2\\u7ad9\\u4f7f\\u7528 cookies\\u5206\\u6790\\u6280\\u8853\\u3002\\u82e5\\u7e7c\\u7e8c\\u95b1\\u89bd\\u672c\\u7db2\\u7ad9\\u5167\\u5bb9\\uff0c\\u5373\\u8868\\u793a\\u60a8\\u540c\\u610f\\u6211\\u5011\\u4f7f\\u7528 cookies \\uff0c\\u95dc\\u65bc\\u66f4\\u591a cookies \\u8cc7\\u8a0a\\u8acb\\u95b1\\u8b80\\u6211\\u5011\\u7684 \\u96b1\\u79c1\\u6b0a\\u653f\\u7b56 \\u3002\\n\\u8acb\\u767b\\u5165\\u6703\\u54e1\\n\\u6b64\\u70ba\\u6703\\u54e1\\u9650\\u5b9a\\u529f\\u80fd\\u7acb\\u5373\\u767b\\u5165\\n\\u4eca\\u5929\\u6e96\\u5099\\u597d\\u660e\\u5929\\u7684\\u7af6\\u722d\\u529b\\uff01\\u7cbe\\u9078\\u570b\\u969b\\u3001\\u7522\\u7d93\\u6642\\u4e8b\\uff0c\\u5feb\\u901f\\u638c\\u63e1\\u6700\\u65b0\\u8da8\\u52e2\\u3002\\n\\u63d0\\u4f9b\\u91ab\\u7642\\u77e5\\u8b58\\u3001\\u6297\\u8001\\u990a\\u751f\\u3001\\u5065\\u5eb7\\u98f2\\u98df\\u3001\\u904b\\u52d5\\u4fdd\\u5065\\u3001\\u667a\\u6167\\u91ab\\u7642\\u7b49\\u8cc7\\u8a0a\\uff0c\\u7d66\\u60a8\\u6eff\\u6eff\\u7684\\u6d3b\\u529b\\u8207\\u80fd\\u91cf\\uff01\\n\\u8ffd\\u8e64\\u5168\\u7403\\u53ca\\u5168\\u53f0\\u6de8\\u96f6\\u65b0\\u8da8\\u52e2\\uff0c\\u52a9\\u60a8\\u642d\\u4e0aESG\\u7684\\u6c38\\u7e8c\\u5217\\u8eca\\u3002\\n\\u805a\\u7126\\u57ce\\u5e02\\u7f8e\\u5b78\\u3001\\u4eba\\u6587\\u6d3b\\u52d5\\u3001\\u5730\\u65b9\\u6cbb\\u7406\\u3001\\u667a\\u6167\\u79d1\\u6280\\u56db\\u5927\\u9762\\u5411\\uff0c\\u63a2\\u7d22\\u57ce\\u5e02\\u5927\\u672a\\u4f86\\uff01\\n\\u300c\\u570b\\u969b\\u5927\\u5e2b\\uff0e\\u53f0\\u7063\\u9023\\u7dda\\u300d\\u6bcf\\u6708\\u7368\\u5bb6\\u9023\\u7dda\\u570b\\u969b\\u5927\\u5e2b\\uff0c\\u70ba\\u60a8\\u958b\\u62d3\\u524d\\u77bb\\u8996\\u91ce\\u3002\\n\\u4e0d\\u5b9a\\u671f\\u9060\\u898b\\u96dc\\u8a8c\\u6d3b\\u52d5\\u8cc7\\u8a0a\\u3002\\n\\u597d\\u4eab\\u751f\\u6d3b\\u95dc\\u6ce8\\u98a8\\u683c\\u8a2d\\u8a08\\u3001\\u5f71\\u8996\\u3001\\u8077\\u6daf\\u3001\\u6d88\\u8cbb\\u53ca\\u751f\\u6d3b\\u76f8\\u95dc\\u8b70\\u984c\\uff0c\\u8207\\u60a8\\u4e00\\u540c\\u54c1\\u5473\\u751f\\u6d3b\\uff0c\\u6063\\u610f\\u63a2\\u7d22\\u3002 All rights reserved.\\n\"}]\n",
      "Assistant: 2023年发生了许多重要事件，以下是一些主要的事件概述：\n",
      "\n",
      "1. **全球气候变化和自然灾害**：2023年被认为是气候变化影响最严重的一年，全球范围内经历了极端高温、强烈洪水和森林大火等自然灾害。\n",
      "\n",
      "2. **地缘政治冲突**：多个国家之间的冲突加剧，如以色列与哈马斯的冲突，造成了大量平民伤亡，国际社会对此表示关注。\n",
      "\n",
      "3. **科技发展**：生成式AI技术（如ChatGPT）的迅猛发展，使得人工智能在多个领域得到广泛应用，带来了许多讨论和变革。\n",
      "\n",
      "4. **经济波动**：全球经济面临通货膨胀和供应链问题，各国中央银行采取措施应对经济放缓。\n",
      "\n",
      "5. **体育事件**：如2023年国际体育赛事的举办，以及各类体育团队的表现引起了广泛关注。\n",
      "\n",
      "6. **社会运动**：全球范围内的社会运动依然在继续，特别是在平权和环境保护方面。\n",
      "\n",
      "7. **重大科技突破**：在太空探索、医学和可再生能源等领域取得了一系列重要进展。\n",
      "\n",
      "如果你想了解具体某一事件的详细信息，可以告诉我！\n",
      "Assistant: 是的，当前是2024年。有什么特别的事情或问题想要讨论吗？\n",
      "Assistant: \n",
      "Assistant: [{\"url\": \"http://www.news.cn/politics/20231231/8c890c9361094227a0804dde3c3dc990/c.html\", \"content\": \"\\u524d\\u77bb\\u4e2d\\u56fd2024\\uff1a\\u8fd9\\u4e9b\\u5927\\u4e8b\\u503c\\u5f97\\u671f\\u5f85\\n\\u524d\\u77bb\\u4e2d\\u56fd2024\\uff1a\\u8fd9\\u4e9b\\u5927\\u4e8b\\u503c\\u5f97\\u671f\\u5f85\\n2024\\u5e74\\u5373\\u5c06\\u5f00\\u542f\\uff0c2024\\u5e74\\u662f\\u65b0\\u4e2d\\u56fd\\u6210\\u7acb75\\u5468\\u5e74\\uff0c\\u662f\\u5b9e\\u65bd\\u201c\\u5341\\u56db\\u4e94\\u201d\\u89c4\\u5212\\u7684\\u5173\\u952e\\u4e00\\u5e74\\uff0c\\u65b0\\u7684\\u5386\\u53f2\\u5750\\u6807\\u4e0a\\uff0c\\u4e00\\u7cfb\\u5217\\u5173\\u7cfb\\u56fd\\u8ba1\\u6c11\\u751f\\u7684\\u5927\\u4e8b\\u5c06\\u5728\\u8fd9\\u4e00\\u5e74\\u53d1\\u751f\\u3002\\n\\u8fd9\\u4e9b\\u5927\\u4e8b\\u5f88\\u91cd\\u8981\\n\\u2014\\u2014\\u65b0\\u4e2d\\u56fd\\u6210\\u7acb75\\u5468\\u5e74\\n1949-2024\\uff0c2024\\u5e7410\\u67081\\u65e5\\uff0c\\u4e2d\\u534e\\u4eba\\u6c11\\u5171\\u548c\\u56fd\\u5c06\\u8fce\\u6765\\u7b2c75\\u4e2a\\u751f\\u65e5\\u3002\\n75\\u5e74\\u6ca7\\u6851\\u5de8\\u53d8\\uff0c\\u4e2d\\u56fd\\u7531\\u4e00\\u7a77\\u4e8c\\u767d\\u5230\\u5168\\u9762\\u5c0f\\u5eb7\\uff0c\\u5982\\u4eca\\u5df2\\u8e0f\\u4e0a\\u4ee5\\u4e2d\\u56fd\\u5f0f\\u73b0\\u4ee3\\u5316\\u5168\\u9762\\u63a8\\u8fdb\\u5f3a\\u56fd\\u5efa\\u8bbe\\u3001\\u6c11\\u65cf\\u590d\\u5174\\u7684\\u65b0\\u5f81\\u7a0b\\u3002\\n\\u4eca\\u5e74\\u4e5f\\u662f\\u5b9e\\u65bd\\u201c\\u5341\\u56db\\u4e94\\u201d\\u89c4\\u5212\\u7684\\u5173\\u952e\\u4e00\\u5e74\\u3002\\u7ad9\\u5728\\u91cd\\u8981\\u5386\\u53f2\\u8282\\u70b9\\u548c\\u65b0\\u7684\\u53d1\\u5c55\\u5f81\\u7a0b\\u4e0a\\uff0c\\u4f5c\\u4e3a\\u4e16\\u754c\\u7b2c\\u4e8c\\u5927\\u7ecf\\u6d4e\\u4f53\\uff0c2024\\u5e74\\u7684\\u4e2d\\u56fd\\u53d1\\u5c55\\uff0c\\u5173\\u7cfb14\\u4ebf\\u591a\\u4eba\\u7684\\u798f\\u7949\\uff0c\\u4e5f\\u5173\\u7cfb\\u4e16\\u754c\\u7ecf\\u6d4e\\u590d\\u82cf\\u3002\\n\\u2014\\u2014\\u7b2c\\u4e94\\u6b21\\u5168\\u56fd\\u7ecf\\u6d4e\\u666e\\u67e5\\u73b0\\u573a\\u767b\\u8bb0\\n\\u7ecf\\u5386\\u4e00\\u5e74\\u591a\\u51c6\\u5907\\uff0c\\u7b2c\\u4e94\\u6b21\\u5168\\u56fd\\u7ecf\\u6d4e\\u666e\\u67e5\\u767b\\u8bb0\\u5de5\\u4f5c\\u5c06\\u4e8e2024\\u5e741\\u67081\\u65e5\\u6b63\\u5f0f\\u542f\\u52a8\\u3002\\u7b2c\\u4e94\\u6b21\\u5168\\u56fd\\u7ecf\\u6d4e\\u666e\\u67e5\\u662f\\u515a\\u7684\\u4e8c\\u5341\\u5927\\u540e\\uff0c\\u5bf9\\u56fd\\u6c11\\u7ecf\\u6d4e\\u8fdb\\u884c\\u7684\\u4e00\\u6b21\\u201c\\u5168\\u9762\\u4f53\\u68c0\\u201d\\u548c\\u201c\\u96c6\\u4e2d\\u76d8\\u70b9\\u201d\\u3002\\n\\u7ecf\\u6d4e\\u666e\\u67e5\\u73b0\\u573a\\u767b\\u8bb0\\u542f\\u52a8\\u540e\\uff0c\\u5168\\u56fd210\\u4e07\\u666e\\u67e5\\u5458\\u5c06\\u6df1\\u5165\\u4f01\\u4e1a\\u5546\\u6237\\u3001\\u8d70\\u8bbf\\u5927\\u8857\\u5c0f\\u5df7\\uff0c\\u5728\\u8fd14\\u4e2a\\u6708\\u7684\\u65f6\\u95f4\\u91cc\\uff0c\\u5b9e\\u73b0\\u5bf9116\\u4e07\\u4e2a\\u666e\\u67e5\\u5c0f\\u533a\\u7684\\u6570\\u636e\\u91c7\\u96c6\\u767b\\u8bb0\\u3002\\n\\u6b64\\u6b21\\u666e\\u67e5\\u5bf9\\u4e8e\\u5168\\u9762\\u6478\\u6e05\\u4e2d\\u56fd\\u7ecf\\u6d4e\\u53d1\\u5c55\\u72b6\\u51b5\\uff0c\\u51c6\\u786e\\u628a\\u63e1\\u65b0\\u65f6\\u4ee3\\u9ad8\\u8d28\\u91cf\\u53d1\\u5c55\\u8fdb\\u7a0b\\uff0c\\u63a8\\u52a8\\u5168\\u9762\\u5efa\\u8bbe\\u793e\\u4f1a\\u4e3b\\u4e49\\u73b0\\u4ee3\\u5316\\u56fd\\u5bb6\\u5f00\\u597d\\u5c40\\u3001\\u8d77\\u597d\\u6b65\\uff0c\\u5177\\u6709\\u91cd\\u8981\\u800c\\u6df1\\u8fdc\\u7684\\u610f\\u4e49\\u3002\\n\\u2014\\u2014\\u4e2d\\u56fd\\u822a\\u5929\\u5c06\\u6709\\u5927\\u52a8\\u4f5c\\n2023\\u5e74\\uff0c\\u4e2d\\u56fd\\u822a\\u5929\\u4ea4\\u51fa\\u4e86\\u4eae\\u773c\\u7684\\u6210\\u7ee9\\uff1b2024\\u5e74\\uff0c\\u4e2d\\u56fd\\u822a\\u5929\\u5c06\\u540c\\u6837\\u5f02\\u5f69\\u7eb7\\u5448\\u3002\\n2024\\u5e74\\uff0c\\u4e2d\\u56fd\\u7a7a\\u95f4\\u7ad9\\u5de5\\u7a0b\\u5c06\\u9646\\u7eed\\u5b9e\\u65bd\\u5929\\u821f\\u4e03\\u53f7\\u8d27\\u8fd0\\u98de\\u8239\\u3001\\u795e\\u821f\\u5341\\u516b\\u53f7\\u8f7d\\u4eba\\u98de\\u8239\\u3001\\u5929\\u821f\\u516b\\u53f7\\u8d27\\u8fd0\\u98de\\u8239\\u3001\\u795e\\u821f\\u5341\\u4e5d\\u53f7\\u8f7d\\u4eba\\u98de\\u8239\\u7b494\\u6b21\\u98de\\u884c\\u4efb\\u52a1\\u3002\\n\\u6b64\\u5916\\uff0c\\u4e2d\\u56fd\\u63a2\\u6708\\u5de5\\u7a0b\\u5ae6\\u5a25\\u516d\\u53f7\\u4efb\\u52a1\\u8ba1\\u5212\\u4e8e2024\\u5e74\\u524d\\u540e\\u5b9e\\u65bd\\u53d1\\u5c04\\u3002\\u6839\\u636e\\u5b89\\u6392\\uff0c\\u5ae6\\u5a25\\u516d\\u53f7\\u4efb\\u52a1\\u5c06\\u5f00\\u5c55\\u6708\\u7403\\u80cc\\u9762\\u91c7\\u6837\\u8fd4\\u56de\\uff0c\\u589e\\u8fdb\\u4eba\\u7c7b\\u5bf9\\u6708\\u7403\\u7684\\u8ba4\\u77e5\\u3002\\u4e3a\\u589e\\u8fdb\\u56fd\\u9645\\u5408\\u4f5c\\uff0c\\u5ae6\\u5a25\\u516d\\u53f7\\u4efb\\u52a1\\u642d\\u8f7d\\u4e864\\u4e2a\\u56fd\\u5bb6\\u7684\\u8f7d\\u8377\\u548c\\u536b\\u661f\\u9879\\u76ee\\u3002\\n\\u4e0e\\u6b64\\u540c\\u65f6\\uff0c\\u4e2d\\u56fd\\u6b63\\u5728\\u52a0\\u5feb\\u63a8\\u8fdb\\u56fd\\u9645\\u6708\\u7403\\u79d1\\u7814\\u7ad9\\u5927\\u79d1\\u5b66\\u5de5\\u7a0b\\uff0c\\u5e0c\\u671b\\u66f4\\u591a\\u56fd\\u9645\\u4f19\\u4f34\\u52a0\\u5165\\uff0c\\u5171\\u540c\\u62d3\\u5c55\\u4eba\\u7c7b\\u8ba4\\u77e5\\u7586\\u57df\\uff0c\\u4e3a\\u548c\\u5e73\\u5229\\u7528\\u592a\\u7a7a\\u3001\\u63a8\\u52a8\\u6784\\u5efa\\u4eba\\u7c7b\\u547d\\u8fd0\\u5171\\u540c\\u4f53\\u4f5c\\u51fa\\u8d21\\u732e\\u3002\\n\\u2014\\u2014\\u4e2d\\u56fd\\u5065\\u513f\\u51fa\\u5f81\\u5df4\\u9ece\\u5965\\u8fd0\\n\\u770b\\u5b8c2023\\u676d\\u5dde\\u4e9a\\u8fd0\\u3001\\u6210\\u90fd\\u5927\\u8fd0\\u4e4b\\u540e\\uff0c2024\\u4f9d\\u7136\\u662f\\u4e00\\u4e2a\\u4f53\\u80b2\\u5927\\u5e74\\u3002\\u8fd9\\u4e00\\u5e74\\uff0c\\u4e2d\\u56fd\\u5065\\u513f\\u5c06\\u51fa\\u5f81\\u5df4\\u9ece\\u5965\\u8fd0\\u3002\\n\\u5df4\\u9ece\\u5965\\u8fd0\\u4f1a\\u5c06\\u4e8e2024\\u5e747\\u670826\\u65e5\\u81f38\\u670811\\u65e5\\u4e3e\\u884c\\uff0c\\u5df4\\u9ece\\u6b8b\\u5965\\u4f1a\\u5c06\\u4e8e2024\\u5e748\\u670828\\u65e5\\u81f39\\u67088\\u65e5\\u4e3e\\u884c\\u3002\\u672c\\u5c4a\\u5965\\u8fd0\\u4f1a\\u548c\\u6b8b\\u5965\\u4f1a\\u7684\\u53e3\\u53f7\\u4e3a\\u201c\\u5965\\u8fd0\\u66f4\\u5f00\\u653e\\u201d\\u3002\\n\\u6211\\u4eec\\u671f\\u5f85\\u7740\\u5347\\u56fd\\u65d7\\u3001\\u594f\\u56fd\\u6b4c\\u7684\\u8363\\u8000\\u65f6\\u523b\\uff0c\\u671f\\u5f85\\u7740\\u4e2d\\u56fd\\u5065\\u513f\\u5728\\u8d5b\\u573a\\u4e0a\\u5c3d\\u60c5\\u95ea\\u8000\\u7ade\\u6280\\u4f53\\u80b2\\u7cbe\\u795e\\u7684\\u7480\\u74a8\\u5149\\u8292\\u3002\\n\\u8fd9\\u4e9b\\u8282\\u70b9\\u8981\\u5173\\u6ce8\\n\\u2014\\u2014\\u6fb3\\u95e8\\u56de\\u5f52\\u7956\\u56fd25\\u5468\\u5e74\\n2024\\u5e7412\\u670820\\u65e5\\uff0c\\u662f\\u6fb3\\u95e8\\u56de\\u5f52\\u7956\\u56fd25\\u5468\\u5e74\\u7eaa\\u5ff5\\u65e5\\u3002\\n1999\\u5e7412\\u670820\\u65e5\\uff0c\\u4e2d\\u56fd\\u653f\\u5e9c\\u5bf9\\u6fb3\\u95e8\\u6062\\u590d\\u884c\\u4f7f\\u4e3b\\u6743\\uff0c\\u4e2d\\u534e\\u4eba\\u6c11\\u5171\\u548c\\u56fd\\u6fb3\\u95e8\\u7279\\u522b\\u884c\\u653f\\u533a\\u6210\\u7acb\\u3002\\u4ece\\u6b64\\uff0c\\u7ecf\\u5386\\u767e\\u5e74\\u6f02\\u6cca\\u7684\\u6fb3\\u95e8\\u56de\\u5230\\u7956\\u56fd\\u7684\\u6000\\u62b1\\uff0c\\u4e2d\\u56fd\\u4eba\\u6c11\\u5728\\u5b8c\\u6210\\u7956\\u56fd\\u7edf\\u4e00\\u5927\\u4e1a\\u4e2d\\u53c8\\u8fc8\\u51fa\\u91cd\\u8981\\u7684\\u4e00\\u6b65\\u3002\\n\\u878d\\u5165\\u7ca4\\u6e2f\\u6fb3\\u5927\\u6e7e\\u533a\\u3001\\u53c2\\u4e0e\\u548c\\u52a9\\u529b\\u201c\\u4e00\\u5e26\\u4e00\\u8def\\u201d\\u5efa\\u8bbe\\u2026\\u202625\\u5e74\\u4ee5\\u6765\\uff0c\\u6fb3\\u95e8\\u6293\\u4f4f\\u56fd\\u5bb6\\u53d1\\u5c55\\u5e26\\u6765\\u7684\\u5386\\u53f2\\u673a\\u9047\\uff0c\\u4e0d\\u65ad\\u8d21\\u732e\\u5177\\u6709\\u6fb3\\u95e8\\u7279\\u8272\\u7684\\u201c\\u4e00\\u56fd\\u4e24\\u5236\\u201d\\u6210\\u529f\\u5b9e\\u8df5\\u548c\\u91cd\\u8981\\u7ecf\\u9a8c\\u3002\\n\\u2014\\u2014\\u5927\\u56fd\\u5173\\u7cfb\\u8fce\\u6765\\u91cd\\u8981\\u8282\\u70b9\\n\\u4e2d\\u7f8e\\u5efa\\u4ea445\\u5468\\u5e74\\u3001\\u4e2d\\u4fc4\\u5efa\\u4ea475\\u5468\\u5e74\\u3001\\u4e2d\\u6cd5\\u5efa\\u4ea460\\u5468\\u5e74\\u2026\\u20262024\\u5e74\\uff0c\\u4e2d\\u56fd\\u7279\\u8272\\u5927\\u56fd\\u5916\\u4ea4\\u5c06\\u8fce\\u6765\\u4e00\\u4e2a\\u4e2a\\u91cd\\u8981\\u8282\\u70b9\\u3002\\n\\u5f53\\u524d\\uff0c\\u56fd\\u9645\\u5f62\\u52bf\\u590d\\u6742\\uff0c\\u5730\\u7f18\\u51b2\\u7a81\\u4e0d\\u65ad\\uff0c\\u767e\\u5e74\\u53d8\\u5c40\\u52a0\\u901f\\u6f14\\u8fdb\\u4e4b\\u4e0b\\uff0c\\u4e2d\\u56fd\\u5916\\u4ea4\\u5982\\u4f55\\u7ed9\\u53d8\\u4e71\\u4ea4\\u7ec7\\u7684\\u4e16\\u754c\\u6ce8\\u5165\\u66f4\\u591a\\u7a33\\u5b9a\\u6027\\u548c\\u6b63\\u80fd\\u91cf\\uff0c2024\\uff0c\\u5907\\u53d7\\u671f\\u5f85\\u3002\\n\\u2014\\u2014\\u957f\\u5f81\\u51fa\\u53d190\\u5468\\u5e74\\n2024\\u5e74\\u662f\\u7ea2\\u519b\\u957f\\u5f81\\u51fa\\u53d190\\u5468\\u5e74\\u3002\\n\\u4ece\\u5de7\\u6e21\\u91d1\\u6c99\\u6c5f\\u5230\\u5f3a\\u6e21\\u5927\\u6e21\\u6cb3\\uff0c\\u4ece\\u98de\\u593a\\u6cf8\\u5b9a\\u6865\\u5230\\u7ffb\\u96ea\\u5c71\\u3001\\u8fc7\\u8349\\u5730\\uff0c90\\u5e74\\u6765\\uff0c\\u957f\\u5f81\\u6545\\u4e8b\\u5e7f\\u4e3a\\u6d41\\u4f20\\u3002\\u957f\\u5f81\\u8fd9\\u4e00\\u4eba\\u7c7b\\u5386\\u53f2\\u4e0a\\u7684\\u4f1f\\u5927\\u58ee\\u4e3e\\uff0c\\u7559\\u7ed9\\u6211\\u4eec\\u6700\\u53ef\\u5b9d\\u8d35\\u7684\\u7cbe\\u795e\\u8d22\\u5bcc\\uff0c\\u5c31\\u662f\\u4e2d\\u56fd\\u5171\\u4ea7\\u515a\\u4eba\\u548c\\u7ea2\\u519b\\u5c06\\u58eb\\u7528\\u751f\\u547d\\u548c\\u70ed\\u8840\\u94f8\\u5c31\\u7684\\u4f1f\\u5927\\u957f\\u5f81\\u7cbe\\u795e\\u3002\\n\\u6bcf\\u4e00\\u4ee3\\u4eba\\u6709\\u6bcf\\u4e00\\u4ee3\\u4eba\\u7684\\u957f\\u5f81\\u8def\\uff0c\\u6bcf\\u4e00\\u4ee3\\u4eba\\u90fd\\u8981\\u8d70\\u597d\\u81ea\\u5df1\\u7684\\u957f\\u5f81\\u3002\\u65b0\\u65f6\\u4ee3\\u518d\\u51fa\\u53d1\\uff0c\\u957f\\u5f81\\u6c38\\u8fdc\\u5728\\u8def\\u4e0a\\u3002\"}, {\"url\": \"https://zh.wikipedia.org/zh-hans/2024\\u5e74\\u4e2d\\u56fd\\u5927\\u9646\", \"content\": \"3\\u67085\\u65e5\\uff1a\\u7b2c\\u5341\\u56db\\u5c4a\\u5168\\u56fd\\u4eba\\u6c11\\u4ee3\\u8868\\u5927\\u4f1a\\u7b2c\\u4e8c\\u6b21\\u4f1a\\u8bae\\u4e8e2024\\u5e743\\u67085\\u65e5\\u5728\\u5317\\u4eac\\u53ec\\u5f00 [15] \\u3002 \\u672c\\u6b21\\u4f1a\\u8bae\\u7ed3\\u675f\\u540e\\uff0c\\u56fd\\u52a1\\u9662\\u603b\\u7406\\u674e\\u5f3a\\u4e0d\\u53ec\\u5f00\\u4e2d\\u5916\\u8bb0\\u8005\\u62db\\u5f85\\u4f1a\\uff0c\\u6253\\u7834\\u903e30\\u5e74\\u7684\\u60ef\\u4f8b [16] [17] \\u3002; 3\\u670810\\u65e5\\uff1a\\u6cb3\\u5317\\u7701 \\u90af\\u90f8\\u5e02 \\u80a5\\u4e61\\u533a\\u76843\\u540d\\u672a\\u6210\\u5e74\\u4eba\\u6d89\\u5acc\\u5171\\u540c\\u6740\\u5bb3\\u65f6\\u5e7413\\u5c81\\u7684\\u540c\\u73ed\\u540c\\u5b66\\u738b\\u5b50\\u8000\\uff0c\\u4e8b\\u4ef6\\u5728\\u4e2d\\u56fd\\u5927\\u9646\\u5404\\u5927\\u793e\\u4ea4\\u5a92\\u4f53\\u5e73\\u53f0\\u4e0a\\u5f15\\u8d77\\u70ed ...\"}]\n",
      "Assistant: 2024年将会发生一些重大事件，以下是一些重要的节点和活动：\n",
      "\n",
      "1. **中国成立75周年**：2024年10月1日是中华人民共和国成立75周年的纪念日，这将是一个重要的历史节点。\n",
      "\n",
      "2. **全国经济普查**：2024年将进行第五次全国经济普查，预计在1月1日正式启动。这次普查将对国家经济发展状况进行全面的调查，以便更好地指导未来的经济政策。\n",
      "\n",
      "3. **国际重大活动**：2024年还将举办一些国际性的重要活动，比如可能的体育赛事等。\n",
      "\n",
      "4. **中国航天计划**：中国航天将继续推进，计划进行多次载人航天和探月任务。\n",
      "\n",
      "5. **中国儿童出征巴黎奥运会**：2024年7月26日至8月11日，巴黎将举行夏季奥运会，中国将派出代表团参加。\n",
      "\n",
      "6. **澳门回归25周年**：2024年12月20日是澳门回归祖国25周年的纪念日。\n",
      "\n",
      "以上这些事件将会在2024年影响中国及全球的政治、经济和文化领域。\n",
      "Goodbye!\n"
     ]
    }
   ],
   "source": [
    "from langchain_core.messages import BaseMessage\n",
    "\n",
    "# 进入一个无限循环，用于模拟持续的对话\n",
    "while True:\n",
    "    # 获取用户输入\n",
    "    user_input = input(\"User: \")\n",
    "    \n",
    "    # 如果用户输入 \"quit\"、\"exit\" 或 \"q\"，则退出循环，结束对话\n",
    "    if user_input.lower() in [\"quit\", \"exit\", \"q\"]:\n",
    "        print(\"Goodbye!\")  # 打印告别语\n",
    "        break  # 退出循环\n",
    "\n",
    "    # 使用 graph.stream 处理用户输入，并生成机器人的回复\n",
    "    # \"messages\" 列表中包含用户的输入，传递给对话系统\n",
    "    for event in graph.stream({\"messages\": [(\"user\", user_input)]}):\n",
    "        \n",
    "        # 遍历 event 的所有值，检查是否是 BaseMessage 类型的消息\n",
    "        for value in event.values():\n",
    "            if isinstance(value[\"messages\"][-1], BaseMessage):\n",
    "                # 如果消息是 BaseMessage 类型，则打印机器人的回复\n",
    "                print(\"Assistant:\", value[\"messages\"][-1].content)\n"
   ]
  },
  {
   "cell_type": "markdown",
   "id": "1f02dd51-1a42-4b00-bc45-4fb619f55ad0",
   "metadata": {},
   "source": [
    "------------"
   ]
  },
  {
   "cell_type": "markdown",
   "id": "31f64614",
   "metadata": {},
   "source": [
    "\n",
    "## 搜索引擎工具赋能前后对比\n",
    "\n",
    "下面对比使用 搜索引擎工具前后，chatbot 生成结果对比\n",
    "\n",
    "\n",
    "### 用户问题\n",
    "\n",
    "```shell\n",
    "User:  详细介绍下 LangGraph 项目\n",
    "```\n",
    "\n",
    "### ChatBot + Web Search Tool（整合搜索结果后生成正确回答）\n",
    "\n",
    "```\n",
    "Assistant: LangGraph 是一个用于构建具有状态的、多参与者应用程序的库，特别是与大型语言模型（LLMs）结合使用。它主要用于创建代理和多代理工作流。与其他 LLM 框架相比，LangGraph 提供了一些核心优势，包括循环、可控性和持久性。\n",
    "\n",
    "### 主要特点\n",
    "1. **循环**：LangGraph 允许定义涉及循环的流程，这对大多数代理架构至关重要。\n",
    "2. **可控性**：用户可以更好地控制工作流的执行。\n",
    "3. **持久性**：能够保存状态，使得应用程序能够在不同的会话中保持一致性。\n",
    "\n",
    "LangGraph 的设计使其能够处理复杂的多代理环境，支持用户定义和管理参与者之间的交互。它基于有向无环图（DAG）的解决方案，使得构建和维护复杂工作流变得更加高效。\n",
    "\n",
    "### 资源链接\n",
    "- [LangGraph GitHub](https://github.com/langchain-ai/langgraph)\n",
    "- [LangGraph 官方文档](https://github.langchain.ac.cn/langgraph/)\n",
    "```\n",
    "\n",
    "### ChatBot-only（模型自己编造的 LangGraph 项目描述）\n",
    "\n",
    "```\n",
    "Assistant: LangGraph 是一个旨在推动自然语言处理（NLP）和图形结构数据结合的项目。它通常涉及将语言模型与图形数据结构相结合，以便更有效地处理和理解复杂的关系和语义信息。以下是 LangGraph 项目的一些关键要素：\n",
    "\n",
    "1. **目标与愿景**：\n",
    "   LangGraph 的主要目标是通过将语言理解与图形表示结合起来，增强机器对人类语言的理解能力。这种结合可以使机器更好地处理信息，识别和推理出不同实体之间的关系。\n",
    "\n",
    "2. **图形结构**：\n",
    "   在 LangGraph 中，图形结构通常用于表示实体及其之间的关系。这种结构可以是知识图谱、社交网络图或其他形式的图形数据，能够捕捉到丰富的语义信息。\n",
    "\n",
    "3. **语言模型**：\n",
    "   LangGraph 通常与先进的语言模型（如 BERT、GPT 等）集成，这些模型能够处理和生成自然语言文本。通过将语言模型与图形结构结合，LangGraph 可以在回答问题、信息检索和对话系统等任务中表现得更为出色。\n",
    "\n",
    "4. **应用场景**：\n",
    "   LangGraph 可以应用于多个领域，包括：\n",
    "   - **信息检索**：通过图谱增强搜索引擎的理解能力，提高检索结果的相关性。\n",
    "   - **对话系统**：改善虚拟助手和聊天机器人的对话能力，使其能够进行更自然和智能的交互。\n",
    "   - **知识管理**：在企业和组织中，通过图形结构更好地组织和管理知识。\n",
    "\n",
    "5. **研究与发展**：\n",
    "   LangGraph 还可能涉及大量的研究工作，包括图神经网络（GNN）、知识图谱的构建和更新、以及如何更好地将语言模型与图形数据结合的方法。\n",
    "\n",
    "6. **开源与社区**：\n",
    "   LangGraph 项目通常鼓励开源和社区参与，以促进技术的快速发展和应用。开发者和研究人员可以贡献代码、文档和其他资源，推动项目的进步。\n",
    "\n",
    "总之，LangGraph 是一个前沿项目，旨在通过将语言处理与图形数据结合，提升机器对自然语言的理解和处理能力。这一领域的发展将对人工智能和数据科学产生深远的影响。\n",
    "```"
   ]
  },
  {
   "cell_type": "markdown",
   "id": "c9fbba90-b3d2-4614-99f8-adad9b7e6c0f",
   "metadata": {},
   "source": [
    "------------\n",
    "\n",
    "# Homework: \n",
    "\n",
    "1. 运行和测试第1部分的聊天机器人（ChatBot-Only），并尝试找到一个其无法回答正确的事实性问题。\n",
    "1. 使用联网查询工具（如：Tavily），在第2部分的聊天机器人（ChatBot + Tool）上测试相同问题，并对比生成结果。 "
   ]
  },
  {
   "cell_type": "markdown",
   "id": "40e91d18-e480-41ea-95d2-e4f34f419d14",
   "metadata": {},
   "source": [
    "------\n",
    "\n",
    "##"
   ]
  },
  {
   "cell_type": "markdown",
   "id": "c82108f5",
   "metadata": {},
   "source": [
    "## 第 3 部分：为聊天机器人添加记忆功能\n",
    "\n",
    "目前机器人可以使用工具来回答问题，但它还无法记住之前的对话内容。为了解决这个问题，我们将为机器人添加记忆功能，让它能够维护对话状态并实现多轮对话。\n",
    "\n",
    "-----------"
   ]
  },
  {
   "cell_type": "markdown",
   "id": "e230fe85",
   "metadata": {},
   "source": [
    "`MemorySaver` 是 LangGraph 中的一个检查点机制（checkpointing），用于保存和恢复对话或任务执行的状态。通过 `MemorySaver`，我们可以在每个步骤后保存机器人的状态，并在之后恢复对话，允许机器人具有“记忆”功能，支持多轮对话、错误恢复、时间旅行等功能。\n",
    "\n",
    "### `MemorySaver` 的核心功能\n",
    "\n",
    "1. **状态持久化**：\n",
    "   - `MemorySaver` 以内存的形式保存对话或任务的当前状态。在每次状态图（StateGraph）执行时，`MemorySaver` 会记录执行到某个节点的状态，并将状态保存在内存中。\n",
    "   - 在实际应用中，可以替换成 `SqliteSaver` 或 `PostgresSaver`，将状态保存到数据库中，以便在系统重新启动后仍能恢复之前的对话。\n",
    "   - 参考文档：https://langchain-ai.github.io/langgraph/how-tos/persistence/\n",
    "\n",
    "2. **多轮对话支持**：\n",
    "   - 使用 `MemorySaver`，每次调用状态图时，都会将对话的上下文保存下来。当用户重新发送消息时，机器人可以加载先前的状态，继续进行对话，而不会丢失上下文。\n",
    "   - 例如，用户可以在多轮对话中提到之前的内容，机器人能够记住这些信息并做出相应的反应。\n",
    "\n",
    "3. **错误恢复**：\n",
    "   - 在任务执行过程中，如果发生了错误，`MemorySaver` 可以帮助机器人恢复到之前的状态，从而重试任务或采取其他措施来处理错误。\n",
    "   - 它可以让机器人在任务失败或异常时从上一次成功的状态继续执行，而无需从头开始。\n",
    "\n",
    "4. **时间旅行**：\n",
    "   - `MemorySaver` 还支持时间旅行功能。开发者可以回溯到之前的某个对话状态，从那个时间点继续执行不同的分支，这在调试和交互式应用中非常有用。\n",
    "   - 用户或开发者可以选择从某个保存的状态点重新开始，并探索不同的执行路径。\n",
    "\n",
    "### 使用场景\n",
    "\n",
    "- **对话系统**：当用户和机器人之间进行多轮对话时，机器人需要记住之前的消息和上下文，以便提供连续性的回复。`MemorySaver` 能帮助机器人保存对话的状态，并在下次调用时恢复先前的对话。\n",
    "  \n",
    "- **任务执行系统**：在复杂任务执行流程中，如果发生中断或错误，`MemorySaver` 能帮助系统从最近的检查点恢复，继续完成未完成的任务。\n",
    "\n",
    "- **调试与实验**：开发者可以通过保存多个状态检查点，回溯到不同的状态节点，进行调试或探索不同的对话分支和执行路径。\n",
    "\n",
    "### 代码示例\n",
    "\n",
    "```python\n",
    "from langgraph.checkpoint.memory import MemorySaver\n",
    "\n",
    "# 创建内存检查点\n",
    "memory = MemorySaver()\n",
    "\n",
    "# 在编译图时，将 MemorySaver 作为检查点传递\n",
    "graph = graph_builder.compile(checkpointer=memory)\n",
    "\n",
    "# 执行状态图，保存当前对话的状态\n",
    "config = {\"configurable\": {\"thread_id\": \"1\"}}\n",
    "events = graph.stream({\"messages\": [(\"user\", \"Hi, what's the weather today?\")]}, config)\n",
    "\n",
    "# 在下次调用时，从内存检查点恢复对话状态\n",
    "events = graph.stream({\"messages\": [(\"user\", \"Can you tell me tomorrow's weather too?\")]}, config)\n",
    "```\n",
    "\n",
    "### 总结\n",
    "\n",
    "`MemorySaver` 是 LangGraph 中用于在内存中保存对话状态的机制，支持机器人的多轮对话、状态恢复和时间旅行等功能。它通过检查点机制，使机器人可以在任务或对话的不同阶段保存并恢复状态，从而提高对话系统的连续性和容错能力。\n"
   ]
  },
  {
   "cell_type": "markdown",
   "id": "2918a620",
   "metadata": {},
   "source": [
    "### 1. 创建 MemorySaver 检查点\n",
    "\n"
   ]
  },
  {
   "cell_type": "code",
   "execution_count": 17,
   "id": "f1093d11",
   "metadata": {},
   "outputs": [],
   "source": [
    "from langgraph.checkpoint.memory import MemorySaver\n",
    "\n",
    "# 创建内存检查点\n",
    "memory = MemorySaver()"
   ]
  },
  {
   "cell_type": "markdown",
   "id": "890ecf8c",
   "metadata": {},
   "source": [
    "\n"
   ]
  },
  {
   "cell_type": "markdown",
   "id": "718e277e",
   "metadata": {},
   "source": [
    "### 2. 使用检查点编译图\n",
    "\n"
   ]
  },
  {
   "cell_type": "markdown",
   "id": "b436f151",
   "metadata": {},
   "source": [
    "在编译图时，我们将提供检查点功能，机器人可以在每个步骤中保存状态。\n",
    "\n"
   ]
  },
  {
   "cell_type": "code",
   "execution_count": 18,
   "id": "eaf106fd",
   "metadata": {},
   "outputs": [],
   "source": [
    "graph = graph_builder.compile(checkpointer=memory)"
   ]
  },
  {
   "cell_type": "code",
   "execution_count": 19,
   "id": "da903750-f00b-4208-8bb4-460a768843c9",
   "metadata": {},
   "outputs": [
    {
     "data": {
      "image/jpeg": "[encoded data removed]",
      "text/plain": [
       "<IPython.core.display.Image object>"
      ]
     },
     "metadata": {},
     "output_type": "display_data"
    }
   ],
   "source": [
    "display(Image(graph.get_graph().draw_mermaid_png()))"
   ]
  },
  {
   "cell_type": "markdown",
   "id": "8b0b3e5a",
   "metadata": {},
   "source": [
    "\n"
   ]
  },
  {
   "cell_type": "markdown",
   "id": "a04a076a",
   "metadata": {},
   "source": [
    "### 3. 执行聊天机器人\n",
    "\n",
    "我们仍然按照之前的方式执行机器人，只是这次它会在每一步保存对话状态。"
   ]
  },
  {
   "cell_type": "markdown",
   "id": "8fb3dfde",
   "metadata": {},
   "source": [
    "\n",
    "#### 代码解析\n",
    "\n",
    "1. **config 配置**：\n",
    "   - `config` 是一个包含对话线程信息的字典，用于指定本次对话的唯一线程 ID。在这个例子中，`thread_id` 被设置为 `\"1\"`，这意味着该对话会与该线程关联。\n",
    "   - 每个线程 ID 代表一个独立的对话流，使用 `MemorySaver` 时，机器人可以在同一个 `thread_id` 下记住对话的上下文。\n",
    "\n",
    "2. **用户输入消息**：\n",
    "   - `user_input` 表示用户的输入消息，在这里用户输入了 `\"Hi there! My name is Peng.\"`。这个消息将作为对话的起始消息传递给机器人。\n",
    "\n",
    "3. **graph.stream**：\n",
    "   - `graph.stream` 是用于执行状态图的函数。它会根据传入的消息和配置执行对话流程。\n",
    "   - `{\"messages\": [(\"user\", user_input)]}`：第一个参数包含用户的输入消息。消息格式是一个元组，`(\"user\", user_input)` 表示这是来自用户的消息。\n",
    "   - `config`：第二个参数指定对话的线程配置，这里使用 `{\"configurable\": {\"thread_id\": \"1\"}}`，表示这次对话属于线程 ID 为 `1` 的对话流。\n",
    "   - `stream_mode=\"values\"`：设置流模式为 `\"values\"`，表示返回消息中的内容数据。\n",
    "\n",
    "4. **遍历事件并打印消息**：\n",
    "   - `for event in events` 遍历每个从 `graph.stream` 中返回的事件，`event[\"messages\"][-1]` 获取每个事件中的最后一条消息。\n",
    "   - `pretty_print()`：调用消息对象的 `pretty_print()` 方法来格式化并打印消息的内容。这通常用于输出对话中的 AI 响应或工具调用结果。\n"
   ]
  },
  {
   "cell_type": "code",
   "execution_count": 20,
   "id": "6a3d3d84",
   "metadata": {},
   "outputs": [
    {
     "name": "stdout",
     "output_type": "stream",
     "text": [
      "================================\u001b[1m Human Message \u001b[0m=================================\n",
      "\n",
      "Hi there! My name is Peng.\n",
      "==================================\u001b[1m Ai Message \u001b[0m==================================\n",
      "\n",
      "Hello, Peng! How can I assist you today?\n"
     ]
    }
   ],
   "source": [
    "config = {\"configurable\": {\"thread_id\": \"1\"}}\n",
    "\n",
    "# 用户输入的消息\n",
    "user_input = \"Hi there! My name is Peng.\"\n",
    "\n",
    "# 第二个参数 config 用于设置对话线程 ID\n",
    "# 在这里，\"thread_id\" 是唯一标识符，用于保存和区分对话线程。\n",
    "# 每个对话线程的状态将由 MemorySaver 保存下来，因此可以跨多轮对话继续进行。\n",
    "events = graph.stream(\n",
    "    {\"messages\": [(\"user\", user_input)]},  # 第一个参数传入用户的输入消息，消息格式为 (\"user\", \"输入内容\")\n",
    "    config,  # 第二个参数用于指定线程配置，包含线程 ID\n",
    "    stream_mode=\"values\"  # stream_mode 设置为 \"values\"，表示返回流式数据的值\n",
    ")\n",
    "\n",
    "# 遍历每个事件，并打印最后一条消息的内容\n",
    "for event in events:\n",
    "    # 通过 pretty_print 打印最后一条消息的内容\n",
    "    event[\"messages\"][-1].pretty_print()"
   ]
  },
  {
   "cell_type": "markdown",
   "id": "4b24b166",
   "metadata": {},
   "source": [
    "\n"
   ]
  },
  {
   "cell_type": "markdown",
   "id": "c2a5dee8",
   "metadata": {},
   "source": [
    "在下次执行时，机器人将记住之前的对话内容：\n",
    "\n"
   ]
  },
  {
   "cell_type": "code",
   "execution_count": 21,
   "id": "95c7f93d",
   "metadata": {},
   "outputs": [
    {
     "name": "stdout",
     "output_type": "stream",
     "text": [
      "================================\u001b[1m Human Message \u001b[0m=================================\n",
      "\n",
      "Remember my name?\n",
      "==================================\u001b[1m Ai Message \u001b[0m==================================\n",
      "\n",
      "Yes, I remember your name is Peng! How can I help you today?\n"
     ]
    }
   ],
   "source": [
    "user_input = \"Remember my name?\"\n",
    "\n",
    "events = graph.stream(\n",
    "    {\"messages\": [(\"user\", user_input)]},\n",
    "    config,\n",
    "    stream_mode=\"values\"\n",
    ")\n",
    "\n",
    "for event in events:\n",
    "    event[\"messages\"][-1].pretty_print()"
   ]
  },
  {
   "cell_type": "markdown",
   "id": "06a52aae",
   "metadata": {},
   "source": [
    "\n"
   ]
  },
  {
   "cell_type": "markdown",
   "id": "a53f7e73",
   "metadata": {},
   "source": [
    "通过这两步操作，您已经成功为机器人添加了对话记忆功能，它可以记住之前的交互，并在后续的对话中做出相应的回应。\n",
    "\n"
   ]
  },
  {
   "cell_type": "code",
   "execution_count": 22,
   "id": "8b8df867",
   "metadata": {},
   "outputs": [
    {
     "name": "stdout",
     "output_type": "stream",
     "text": [
      "================================\u001b[1m Human Message \u001b[0m=================================\n",
      "\n",
      "Remember my name?\n",
      "==================================\u001b[1m Ai Message \u001b[0m==================================\n",
      "\n",
      "I don’t have the ability to remember past interactions, including names. How can I assist you today?\n"
     ]
    }
   ],
   "source": [
    "# 机器人仅记住同一个线程中的历史对话，尝试切换到线程2\n",
    "events = graph.stream(\n",
    "    {\"messages\": [(\"user\", user_input)]},\n",
    "    {\"configurable\": {\"thread_id\": \"2\"}},\n",
    "    stream_mode=\"values\",\n",
    ")\n",
    "for event in events:\n",
    "    event[\"messages\"][-1].pretty_print()"
   ]
  },
  {
   "cell_type": "markdown",
   "id": "ae90b143",
   "metadata": {},
   "source": [
    "\n"
   ]
  },
  {
   "cell_type": "markdown",
   "id": "f023df43",
   "metadata": {},
   "source": [
    "检查点让机器人可以记住对话状态，您可以通过 `get_state` 函数查看机器人当前的状态：\n",
    "\n"
   ]
  },
  {
   "cell_type": "code",
   "execution_count": 23,
   "id": "bb8b2464",
   "metadata": {},
   "outputs": [
    {
     "data": {
      "text/plain": [
       "StateSnapshot(values={'messages': [HumanMessage(content='Hi there! My name is Peng.', additional_kwargs={}, response_metadata={}, id='fdc2d296-04a5-46c8-9634-a74362a1d655'), AIMessage(content='Hello, Peng! How can I assist you today?', additional_kwargs={}, response_metadata={'token_usage': {'completion_tokens': 12, 'prompt_tokens': 87, 'total_tokens': 99, 'completion_tokens_details': None}, 'model_name': 'gpt-4o-mini', 'system_fingerprint': 'fp_878413d04d', 'prompt_filter_results': [{'prompt_index': 0, 'content_filter_results': {'hate': {'filtered': False, 'severity': 'safe'}, 'jailbreak': {'filtered': False, 'detected': False}, 'self_harm': {'filtered': False, 'severity': 'safe'}, 'sexual': {'filtered': False, 'severity': 'safe'}, 'violence': {'filtered': False, 'severity': 'safe'}}}], 'finish_reason': 'stop', 'logprobs': None, 'content_filter_results': {'hate': {'filtered': False, 'severity': 'safe'}, 'protected_material_code': {'filtered': False, 'detected': False}, 'protected_material_text': {'filtered': False, 'detected': False}, 'self_harm': {'filtered': False, 'severity': 'safe'}, 'sexual': {'filtered': False, 'severity': 'safe'}, 'violence': {'filtered': False, 'severity': 'safe'}}}, id='run-c232dd6c-b953-492b-aa3e-853c6735dd80-0', usage_metadata={'input_tokens': 87, 'output_tokens': 12, 'total_tokens': 99}), HumanMessage(content='Remember my name?', additional_kwargs={}, response_metadata={}, id='2d946624-7680-4e56-be4d-8e23fcf84a40'), AIMessage(content='Yes, I remember your name is Peng! How can I help you today?', additional_kwargs={}, response_metadata={'token_usage': {'completion_tokens': 17, 'prompt_tokens': 110, 'total_tokens': 127, 'completion_tokens_details': None}, 'model_name': 'gpt-4o-mini', 'system_fingerprint': 'fp_878413d04d', 'prompt_filter_results': [{'prompt_index': 0, 'content_filter_results': {'hate': {'filtered': False, 'severity': 'safe'}, 'jailbreak': {'filtered': False, 'detected': False}, 'self_harm': {'filtered': False, 'severity': 'safe'}, 'sexual': {'filtered': False, 'severity': 'safe'}, 'violence': {'filtered': False, 'severity': 'safe'}}}], 'finish_reason': 'stop', 'logprobs': None, 'content_filter_results': {'hate': {'filtered': False, 'severity': 'low'}, 'protected_material_code': {'filtered': False, 'detected': False}, 'protected_material_text': {'filtered': False, 'detected': False}, 'self_harm': {'filtered': False, 'severity': 'safe'}, 'sexual': {'filtered': False, 'severity': 'safe'}, 'violence': {'filtered': False, 'severity': 'safe'}}}, id='run-7e85f569-d93d-4a14-bc3a-d319ce3f10b6-0', usage_metadata={'input_tokens': 110, 'output_tokens': 17, 'total_tokens': 127})]}, next=(), config={'configurable': {'thread_id': '1', 'checkpoint_ns': '', 'checkpoint_id': '1ef7ca9d-d6c8-64c6-8004-c8b87904e8bd'}}, metadata={'source': 'loop', 'writes': {'chatbot': {'messages': [AIMessage(content='Yes, I remember your name is Peng! How can I help you today?', additional_kwargs={}, response_metadata={'token_usage': {'completion_tokens': 17, 'prompt_tokens': 110, 'total_tokens': 127, 'completion_tokens_details': None}, 'model_name': 'gpt-4o-mini', 'system_fingerprint': 'fp_878413d04d', 'prompt_filter_results': [{'prompt_index': 0, 'content_filter_results': {'hate': {'filtered': False, 'severity': 'safe'}, 'jailbreak': {'filtered': False, 'detected': False}, 'self_harm': {'filtered': False, 'severity': 'safe'}, 'sexual': {'filtered': False, 'severity': 'safe'}, 'violence': {'filtered': False, 'severity': 'safe'}}}], 'finish_reason': 'stop', 'logprobs': None, 'content_filter_results': {'hate': {'filtered': False, 'severity': 'low'}, 'protected_material_code': {'filtered': False, 'detected': False}, 'protected_material_text': {'filtered': False, 'detected': False}, 'self_harm': {'filtered': False, 'severity': 'safe'}, 'sexual': {'filtered': False, 'severity': 'safe'}, 'violence': {'filtered': False, 'severity': 'safe'}}}, id='run-7e85f569-d93d-4a14-bc3a-d319ce3f10b6-0', usage_metadata={'input_tokens': 110, 'output_tokens': 17, 'total_tokens': 127})]}}, 'step': 4, 'parents': {}}, created_at='2024-09-27T08:24:07.796845+00:00', parent_config={'configurable': {'thread_id': '1', 'checkpoint_ns': '', 'checkpoint_id': '1ef7ca9d-c887-674a-8003-2c19e63a04a8'}}, tasks=())"
      ]
     },
     "execution_count": 23,
     "metadata": {},
     "output_type": "execute_result"
    }
   ],
   "source": [
    "snapshot = graph.get_state(config)\n",
    "snapshot"
   ]
  },
  {
   "cell_type": "markdown",
   "id": "9b33358b-945d-419e-acaa-11cb5eaccdd9",
   "metadata": {},
   "source": [
    "### 使用 Pandas 表格呈现状态\n",
    "\n",
    "对于其中的 messages 等结构化数据，可以将其转换为 Pandas DataFrame 进行展示。"
   ]
  },
  {
   "cell_type": "code",
   "execution_count": 39,
   "id": "6e7e6291-acef-44f5-97f6-fd542d16cc86",
   "metadata": {},
   "outputs": [
    {
     "data": {
      "text/html": [
       "<div>\n",
       "<style scoped>\n",
       "    .dataframe tbody tr th:only-of-type {\n",
       "        vertical-align: middle;\n",
       "    }\n",
       "\n",
       "    .dataframe tbody tr th {\n",
       "        vertical-align: top;\n",
       "    }\n",
       "\n",
       "    .dataframe thead th {\n",
       "        text-align: right;\n",
       "    }\n",
       "</style>\n",
       "<table border=\"1\" class=\"dataframe\">\n",
       "  <thead>\n",
       "    <tr style=\"text-align: right;\">\n",
       "      <th></th>\n",
       "      <th>content</th>\n",
       "      <th>message_id</th>\n",
       "      <th>type</th>\n",
       "      <th>token_usage</th>\n",
       "    </tr>\n",
       "  </thead>\n",
       "  <tbody>\n",
       "    <tr>\n",
       "      <th>0</th>\n",
       "      <td>我正在学习LangGraph。你能帮我做一些研究吗？</td>\n",
       "      <td>72aff821-c27a-4ae4-8467-9c51d5c4b110</td>\n",
       "      <td>HumanMessage</td>\n",
       "      <td>None</td>\n",
       "    </tr>\n",
       "    <tr>\n",
       "      <th>1</th>\n",
       "      <td></td>\n",
       "      <td>run-24e0f10d-72be-44a6-a35c-9399dbff3d82-0</td>\n",
       "      <td>AIMessage</td>\n",
       "      <td>{'completion_tokens': 21, 'prompt_tokens': 94,...</td>\n",
       "    </tr>\n",
       "  </tbody>\n",
       "</table>\n",
       "</div>"
      ],
      "text/plain": [
       "                      content                                  message_id  \\\n",
       "0  我正在学习LangGraph。你能帮我做一些研究吗？        72aff821-c27a-4ae4-8467-9c51d5c4b110   \n",
       "1                              run-24e0f10d-72be-44a6-a35c-9399dbff3d82-0   \n",
       "\n",
       "           type                                        token_usage  \n",
       "0  HumanMessage                                               None  \n",
       "1     AIMessage  {'completion_tokens': 21, 'prompt_tokens': 94,...  "
      ]
     },
     "execution_count": 39,
     "metadata": {},
     "output_type": "execute_result"
    }
   ],
   "source": [
    "import pandas as pd\n",
    "\n",
    "# 将消息内容转换为 DataFrame 显示\n",
    "messages = snapshot.values['messages']\n",
    "df = pd.DataFrame([{\n",
    "    'content': msg.content,\n",
    "    'message_id': msg.id,\n",
    "    'type': type(msg).__name__,\n",
    "    'token_usage': msg.response_metadata.get('token_usage') if hasattr(msg, 'response_metadata') else None\n",
    "} for msg in messages])\n",
    "\n",
    "df  # Jupyter 会自动渲染 DataFrame"
   ]
  },
  {
   "cell_type": "markdown",
   "id": "a2128bcb",
   "metadata": {},
   "source": [
    "\n"
   ]
  },
  {
   "cell_type": "markdown",
   "id": "16c557f8",
   "metadata": {},
   "source": [
    "---\n",
    "\n"
   ]
  },
  {
   "cell_type": "markdown",
   "id": "15417aa1",
   "metadata": {},
   "source": [
    "## 第 4 部分：引入人类审查\n",
    "\n"
   ]
  },
  {
   "cell_type": "markdown",
   "id": "55389548",
   "metadata": {},
   "source": [
    "有时机器人可能需要人类的介入来做出复杂决策，或者某些任务需要人类批准。LangGraph 支持这种“人类参与”的工作流，您可以在对话中加入人类审查。\n",
    "\n",
    "第4部分，主要展示了如何通过 LangGraph 进行多轮对话和工具调用，并且能够手动更新对话状态、插入工具调用的结果，之后继续执行对话。"
   ]
  },
  {
   "cell_type": "markdown",
   "id": "21516923",
   "metadata": {},
   "source": [
    "### 1. 编译图时添加中断\n",
    "\n"
   ]
  },
  {
   "cell_type": "markdown",
   "id": "22974e2c",
   "metadata": {},
   "source": [
    "我们可以通过 `interrupt_before` 参数，在工具节点执行之前中断对话，让人类有机会审查。\n",
    "\n",
    "\n",
    "**编译状态图**：\n",
    "   - `graph_builder.compile()` 用于编译状态图，生成可执行的 `CompiledGraph` 对象。\n",
    "   - `checkpointer=memory` 使用内存作为检查点保存对话状态。\n",
    "   - `interrupt_before=[\"tools\"]` 表示在执行 \"tools\" 节点之前中断，允许手动干预。"
   ]
  },
  {
   "cell_type": "code",
   "execution_count": 37,
   "id": "6a9dc7e7",
   "metadata": {},
   "outputs": [],
   "source": [
    "# 编译状态图，指定在工具节点之前进行中断\n",
    "graph = graph_builder.compile(\n",
    "    checkpointer=memory,  # 使用 MemorySaver 作为检查点系统\n",
    "    interrupt_before=[\"tools\"],  # 在进入 \"tools\" 节点前进行中断\n",
    ")"
   ]
  },
  {
   "cell_type": "code",
   "execution_count": 26,
   "id": "68c4a8ca-67cc-44a5-8ee3-3bb4167ae07b",
   "metadata": {},
   "outputs": [
    {
     "data": {
      "image/jpeg": "[encoded data removed]",
      "text/plain": [
       "<IPython.core.display.Image object>"
      ]
     },
     "metadata": {},
     "output_type": "display_data"
    }
   ],
   "source": [
    "display(Image(graph.get_graph().draw_mermaid_png()))"
   ]
  },
  {
   "cell_type": "markdown",
   "id": "c7a29fe2",
   "metadata": {},
   "source": [
    "\n"
   ]
  },
  {
   "cell_type": "markdown",
   "id": "cc93cf40",
   "metadata": {},
   "source": [
    "### 2. 执行对话并在工具调用前中断\n",
    "\n"
   ]
  },
  {
   "cell_type": "markdown",
   "id": "12c06a58",
   "metadata": {},
   "source": [
    "我们现在来执行对话，并在工具节点之前进行中断，以便人类介入。\n",
    "\n"
   ]
  },
  {
   "cell_type": "code",
   "execution_count": 40,
   "id": "e9bc5112",
   "metadata": {},
   "outputs": [
    {
     "name": "stdout",
     "output_type": "stream",
     "text": [
      "================================\u001b[1m Human Message \u001b[0m=================================\n",
      "\n",
      "我正在学习LangGraph。你能帮我做一些研究吗？\n",
      "==================================\u001b[1m Ai Message \u001b[0m==================================\n",
      "Tool Calls:\n",
      "  tavily_search_results_json (call_iwb4LSRDIVITyesTfTDO0LJc)\n",
      " Call ID: call_iwb4LSRDIVITyesTfTDO0LJc\n",
      "  Args:\n",
      "    query: LangGraph\n"
     ]
    }
   ],
   "source": [
    "# 用户输入的消息\n",
    "user_input = \"我正在学习LangGraph。你能帮我做一些研究吗？\"\n",
    "# 配置新的对话线程 ID，用于保存和恢复对话状态\n",
    "config = {\"configurable\": {\"thread_id\": \"4\"}}\n",
    "\n",
    "# 使用 stream 方法处理用户输入并返回事件\n",
    "events = graph.stream(\n",
    "    {\"messages\": [(\"user\", user_input)]},\n",
    "    config,\n",
    "    stream_mode=\"values\"\n",
    ")\n",
    "\n",
    "# 遍历每个事件并输出最后一条消息的内容\n",
    "for event in events:\n",
    "    if \"messages\" in event:\n",
    "        event[\"messages\"][-1].pretty_print()  # 打印消息内容"
   ]
  },
  {
   "cell_type": "markdown",
   "id": "10ea1621",
   "metadata": {},
   "source": [
    "\n"
   ]
  },
  {
   "cell_type": "markdown",
   "id": "f6a7db0f",
   "metadata": {},
   "source": [
    "检查图的状态，确认已经中断。\n",
    "\n",
    "**获取状态快照**：\n",
    "   - 使用 `graph.get_state(config)` 获取当前对话的状态快照。\n",
    "   - `snapshot.next` 显示下一个将要执行的节点（在中断时为 \"tools\" 节点）。"
   ]
  },
  {
   "cell_type": "code",
   "execution_count": 41,
   "id": "3894534a",
   "metadata": {},
   "outputs": [
    {
     "data": {
      "text/plain": [
       "('tools',)"
      ]
     },
     "execution_count": 41,
     "metadata": {},
     "output_type": "execute_result"
    }
   ],
   "source": [
    "# 获取当前对话的状态快照\n",
    "snapshot = graph.get_state(config)\n",
    "# 查看快照中下一个要执行的节点\n",
    "snapshot.next"
   ]
  },
  {
   "cell_type": "markdown",
   "id": "448e17fc-9ebb-407c-8d8b-40c4dbb7f654",
   "metadata": {},
   "source": [
    "请注意，与上次不同，“下一个”节点被设置为'tools'。我们在这里中断了！让我们检查一下工具调用。"
   ]
  },
  {
   "cell_type": "code",
   "execution_count": 42,
   "id": "a568e527-28b7-412f-8a48-d22e4ad55d90",
   "metadata": {},
   "outputs": [
    {
     "data": {
      "text/plain": [
       "[{'name': 'tavily_search_results_json',\n",
       "  'args': {'query': 'LangGraph'},\n",
       "  'id': 'call_iwb4LSRDIVITyesTfTDO0LJc',\n",
       "  'type': 'tool_call'}]"
      ]
     },
     "execution_count": 42,
     "metadata": {},
     "output_type": "execute_result"
    }
   ],
   "source": [
    "existing_message = snapshot.values[\"messages\"][-1]\n",
    "existing_message.tool_calls"
   ]
  },
  {
   "cell_type": "markdown",
   "id": "95436842-b3fa-4e0e-80f9-eed3aaa8f709",
   "metadata": {},
   "source": [
    "这个查询看起来很合理。这里没有需要过滤的内容。人类能做的最简单的事情就是让图形继续执行。我们在下面这样做。\n",
    "\n",
    "**接下来，继续执行图！**\n",
    "\n",
    "传入 `None` 便是让图从它停止的地方继续，而不会向状态中添加任何新内容。"
   ]
  },
  {
   "cell_type": "code",
   "execution_count": 43,
   "id": "fd1c0708-cbf9-4040-8365-f2c162468689",
   "metadata": {},
   "outputs": [
    {
     "name": "stdout",
     "output_type": "stream",
     "text": [
      "==================================\u001b[1m Ai Message \u001b[0m==================================\n",
      "Tool Calls:\n",
      "  tavily_search_results_json (call_iwb4LSRDIVITyesTfTDO0LJc)\n",
      " Call ID: call_iwb4LSRDIVITyesTfTDO0LJc\n",
      "  Args:\n",
      "    query: LangGraph\n",
      "=================================\u001b[1m Tool Message \u001b[0m=================================\n",
      "Name: tavily_search_results_json\n",
      "\n",
      "[{\"url\": \"https://www.langchain.com/langgraph\", \"content\": \"LangGraph is a framework for building stateful, multi-actor agents with LLMs that can handle complex scenarios and collaborate with humans. Learn how to use LangGraph with Python or JavaScript, deploy it with LangGraph Cloud, and see examples from real-world use cases.\"}, {\"url\": \"https://www.datacamp.com/tutorial/langgraph-tutorial\", \"content\": \"LangGraph is a library within the LangChain ecosystem that simplifies the development of complex, multi-agent large language model (LLM) applications. Learn how to use LangGraph to create stateful, flexible, and scalable systems with nodes, edges, and state management.\"}]\n",
      "==================================\u001b[1m Ai Message \u001b[0m==================================\n",
      "\n",
      "LangGraph 是一个用于构建有状态的多代理（multi-actor）智能体框架，能够与大型语言模型（LLMs）协作并处理复杂场景。以下是一些相关资源和信息：\n",
      "\n",
      "1. **LangGraph 官方网站**:\n",
      "   - [LangGraph](https://www.langchain.com/langgraph): 这个框架允许开发者使用 Python 或 JavaScript 来构建复杂的应用，并且可以通过 LangGraph Cloud 部署。\n",
      "\n",
      "2. **DataCamp 教程**:\n",
      "   - [LangGraph Tutorial](https://www.datacamp.com/tutorial/langgraph-tutorial): 这个教程提供了如何在 LangChain 生态系统中使用 LangGraph 来简化多代理 LLM 应用开发的指南。它强调了节点、边和状态管理的使用，帮助开发者创建灵活且可扩展的系统。\n",
      "\n",
      "如果你需要更具体的信息或者有其他方面的疑问，请告诉我！\n"
     ]
    }
   ],
   "source": [
    "events = graph.stream(None, config, stream_mode=\"values\")\n",
    "for event in events:\n",
    "    if \"messages\" in event:\n",
    "        event[\"messages\"][-1].pretty_print()"
   ]
  },
  {
   "cell_type": "code",
   "execution_count": null,
   "id": "6db4ea6f-15cf-44b8-a47f-3c69a7943ec2",
   "metadata": {},
   "outputs": [],
   "source": []
  },
  {
   "cell_type": "markdown",
   "id": "347b87fc",
   "metadata": {},
   "source": [
    "### 3. 人工介入，修改工具执行结果"
   ]
  },
  {
   "cell_type": "markdown",
   "id": "7365a2b7",
   "metadata": {},
   "source": [
    "我们直接使用人工定义的内容，作为工具的返回结果。\n",
    "\n",
    "**手动插入工具调用结果**：\n",
    "   - 创建一个 `ToolMessage` 消息对象，内容是手动提供的工具调用结果，如 `\"LangGraph 是一个用于构建状态化、多参与者应用的库\"`。\n",
    "   - `tool_call_id` 使用之前的工具调用 ID 来关联这个工具调用消息。\n",
    "\n",
    "**更新状态**：\n",
    "   - 通过 `graph.update_state(config, {\"messages\": [tool_message]})` 手动更新对话状态，插入新的工具调用结果。\n",
    "\n",
    "**继续执行对话**：\n",
    "   - 使用 `graph.stream(None, config)` 继续执行对话，处理工具调用后的节点。\n",
    "   - 打印后续生成的消息，显示机器人对工具调用结果的响应。\n",
    "\n",
    "**工具调用最终输出是人工手动输入的内容**"
   ]
  },
  {
   "cell_type": "code",
   "execution_count": 44,
   "id": "c95a79df",
   "metadata": {},
   "outputs": [
    {
     "name": "stdout",
     "output_type": "stream",
     "text": [
      "=================================\u001b[1m Tool Message \u001b[0m=================================\n",
      "\n",
      "LangGraph 是一个用于构建状态化、多参与者应用的库。\n"
     ]
    }
   ],
   "source": [
    "# 手动生成一个工具调用的消息，并更新到对话状态中\n",
    "tool_message = ToolMessage(\n",
    "    content=\"LangGraph 是一个用于构建状态化、多参与者应用的库。\",  # 工具调用返回的内容\n",
    "    tool_call_id=snapshot.values[\"messages\"][-1].tool_calls[0][\"id\"]  # 关联工具调用的 ID\n",
    ")\n",
    "\n",
    "# 更新对话状态，加入工具调用的结果\n",
    "graph.update_state(config, {\"messages\": [tool_message]})\n",
    "\n",
    "# 继续执行对话，查看工具调用后的后续处理\n",
    "events = graph.stream(None, config, stream_mode=\"values\")\n",
    "\n",
    "for event in events:\n",
    "    event[\"messages\"][-1].pretty_print()  # 打印后续生成的消息内容"
   ]
  },
  {
   "cell_type": "markdown",
   "id": "5bbdf42b",
   "metadata": {},
   "source": [
    "---------\n",
    "\n",
    "## 第5部分： 查看 ChatBot 历史对话\n",
    "\n",
    "在 LangGraph 中，可以使用 `graph.get_state_history()` 来获取对话的所有历史状态。\n",
    "\n",
    "传入参数：`{\"configurable\": {\"thread_id\": \"1\"}}`，可以获取指定线程的对话状态。\n",
    "\n",
    "```python\n",
    "# 获取指定线程 ID 的所有历史状态\n",
    "history = graph.get_state_history({\"configurable\": {\"thread_id\": \"1\"}})\n",
    "\n",
    "# 遍历历史记录，打印每个状态中的所有消息\n",
    "for state in history:\n",
    "    print(\"=== 对话历史 ===\")\n",
    "    # 遍历每个状态中的消息记录\n",
    "    for message in state.values[\"messages\"]:\n",
    "        if isinstance(message, BaseMessage):\n",
    "            # 根据消息类型区分用户与机器人\n",
    "            if \"user\" in message.content.lower():\n",
    "                print(f\"User: {message.content}\")\n",
    "            else:\n",
    "                print(f\"Assistant: {message.content}\")\n",
    "```\n",
    "\n",
    "\n",
    "### **为什么不用 events 获取历史？**\n",
    "\n",
    "如果您使用 events，每次调用 graph.stream() 时，您只能获取当前的对话步骤，而不是之前的对话记录。要保留对话历史，您需要在每次获取 events 时将结果手动保存，这样会增加复杂度。\n",
    "\n",
    "\n",
    "### 对话历史去重\n",
    "\n",
    "直接运行上面的代码，可能会出现重复的对话历史。\n",
    "\n",
    "- **问题来源**：重复的状态快照和无消息的中间状态导致了多次重复的对话历史和空对话历史。\n",
    "\n",
    "为了处理这些问题，我们可以引入更严格的过滤条件，并确保只打印那些包含**新消息**或有效消息的状态。\n",
    "\n",
    "- **解决方案**：通过检查消息类型和 ID 来过滤无效和重复的消息，并只输出真正包含对话内容的状态快照。\n",
    "\n",
    "### 代码解析\n",
    "\n",
    "1. **`valid_messages` 列表**：这段代码检查每条消息是否是 `BaseMessage` 类型，同时确保该消息之前没有被处理过。如果消息符合这些条件，则被视为有效消息。\n",
    "\n",
    "2. **输出条件**：只有当存在有效消息时，才打印 `=== 对话历史 ===`，否则打印 `=== 空对话历史（无有效消息） ===`。\n",
    "\n",
    "3. **避免重复输出**：通过 `seen_message_ids` 集合来存储已经处理过的消息 ID，确保每条消息只被打印一次，防止重复输出。"
   ]
  },
  {
   "cell_type": "code",
   "execution_count": 45,
   "id": "f8e2fe74-4dd8-4cd8-9b30-2a34efaf53da",
   "metadata": {},
   "outputs": [
    {
     "name": "stdout",
     "output_type": "stream",
     "text": [
      "=== 对话历史 ===\n",
      "Assistant: 我正在学习LangGraph。你能帮我做一些研究吗？\n",
      "Assistant: \n",
      "Assistant: [{\"url\": \"https://github.com/langchain-ai/langgraph\", \"content\": \"Overview. LangGraph is a library for building stateful, multi-actor applications with LLMs, used to create agent and multi-agent workflows. Compared to other LLM frameworks, it offers these core benefits: cycles, controllability, and persistence. LangGraph allows you to define flows that involve cycles, essential for most agentic architectures ...\"}, {\"url\": \"https://academy.langchain.com/courses/intro-to-langgraph\", \"content\": \"Separate from the LangChain package, LangGraph helps developers add better precision and control into agentic workflows. Lesson 1: Motivation Lesson 2: Simple Graph Lesson 3: LangGraph Studio Lesson 4: Chain Lesson 5: Router Lesson 6: Agent Lesson 7: Agent with Memory Lesson 8: Deployment Lesson 1: State Schema Lesson 2: State Reducers Lesson 3: Multiple Schemas Lesson 1: Streaming Lesson 2: Breakpoints Lesson 3: Editing State and Human Feedback Lesson 4: Dynamic Breakpoints Lesson 1: Parallelization Lesson 2: Sub-graphs Lesson 3: Map-reduce Lesson 4: Research Assistant About this course No. LangGraph is an orchestration framework for complex agentic systems and is more low-level and controllable than LangChain agents. Deploy LangGraph agents at scale with LangGraph Cloud (available for Python).\"}]\n",
      "Assistant: LangGraph 是一个用于构建状态化、多参与者应用的库。\n",
      "Assistant: 我正在学习LangGraph。你能帮我做一些研究吗？\n",
      "Assistant: 我正在学习LangGraph。你能帮我做一些研究吗？\n",
      "=== 空对话历史（无有效消息） ===\n",
      "=== 空对话历史（无有效消息） ===\n",
      "=== 空对话历史（无有效消息） ===\n",
      "=== 空对话历史（无有效消息） ===\n",
      "=== 空对话历史（无有效消息） ===\n",
      "=== 空对话历史（无有效消息） ===\n",
      "=== 空对话历史（无有效消息） ===\n",
      "=== 空对话历史（无有效消息） ===\n"
     ]
    }
   ],
   "source": [
    "# 获取指定线程 ID 的所有历史状态\n",
    "history = graph.get_state_history({\"configurable\": {\"thread_id\": \"3\"}})\n",
    "\n",
    "# 使用集合存储已处理过的消息 ID\n",
    "seen_message_ids = set()\n",
    "\n",
    "# 遍历历史记录，打印每个状态中的所有消息\n",
    "for state in history:\n",
    "    # 获取状态中的消息列表\n",
    "    messages = state.values.get(\"messages\", [])\n",
    "    \n",
    "    # 检查是否存在至少一条未处理的 BaseMessage 类型的消息\n",
    "    valid_messages = [msg for msg in messages if isinstance(msg, BaseMessage) and msg.id not in seen_message_ids]\n",
    "    \n",
    "    if valid_messages:\n",
    "        print(\"=== 对话历史 ===\")\n",
    "        for message in valid_messages:\n",
    "            seen_message_ids.add(message.id)  # 记录消息 ID，避免重复处理\n",
    "            if \"user\" in message.content.lower():\n",
    "                print(f\"User: {message.content}\")\n",
    "            else:\n",
    "                print(f\"Assistant: {message.content}\")\n",
    "    else:\n",
    "        print(\"=== 空对话历史（无有效消息） ===\")"
   ]
  },
  {
   "cell_type": "code",
   "execution_count": null,
   "id": "43681f46-8d20-4002-92c3-f121cd52a8a8",
   "metadata": {},
   "outputs": [],
   "source": []
  },
  {
   "cell_type": "code",
   "execution_count": null,
   "id": "5778ec5f-13e3-40f9-b17b-769e87e8980e",
   "metadata": {},
   "outputs": [],
   "source": []
  },
  {
   "attachments": {},
   "cell_type": "markdown",
   "id": "82f58d4f-87a7-4d5d-b962-553b66407812",
   "metadata": {},
   "source": [
    "# Homework: \n",
    "\n",
    "1. 运行和测试第1部分的聊天机器人（ChatBot-Only），并尝试找到一个其无法回答正确的事实性问题。\n",
    "1. 使用联网查询工具（如：Tavily），在第2部分的聊天机器人（ChatBot + Tool）上测试相同问题，并对比生成结果。 "
   ]
  },
  {
   "cell_type": "code",
   "execution_count": null,
   "id": "e0696cb2-16f9-4db0-a395-18e6246cea95",
   "metadata": {},
   "outputs": [],
   "source": []
  }
 ],
 "metadata": {
  "kernelspec": {
   "display_name": "Python 3 (ipykernel)",
   "language": "python",
   "name": "python3"
  },
  "language_info": {
   "codemirror_mode": {
    "name": "ipython",
    "version": 3
   },
   "file_extension": ".py",
   "mimetype": "text/x-python",
   "name": "python",
   "nbconvert_exporter": "python",
   "pygments_lexer": "ipython3",
   "version": "3.11.5"
  }
 },
 "nbformat": 4,
 "nbformat_minor": 5
}
